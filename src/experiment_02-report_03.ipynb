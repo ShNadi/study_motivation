{
 "cells": [
  {
   "cell_type": "code",
   "execution_count": 2,
   "metadata": {},
   "outputs": [],
   "source": [
    "import pandas as pd\n",
    "import correlation"
   ]
  },
  {
   "cell_type": "code",
   "execution_count": 13,
   "metadata": {},
   "outputs": [],
   "source": [
    "df_2014 = pd.read_csv(r'..\\data\\raw\\motivatoin_2014.csv')\n",
    "df_2015 = pd.read_csv(r'..\\data\\raw\\motivation_2015.csv')"
   ]
  },
  {
   "cell_type": "code",
   "execution_count": 15,
   "metadata": {},
   "outputs": [
    {
     "name": "stdout",
     "output_type": "stream",
     "text": [
      "Correlation between reenrolled andbsa_dummy is: 0.8170146806685833\n"
     ]
    }
   ],
   "source": [
    "#There're two target variables 'reenrolled', 'bsa_dummy'\n",
    "# Find correlaton between target variables on concatenated dataset(df_2014 and df_2015)\n",
    "\n",
    "# Concatenate datasets\n",
    "df = pd.concat([df_2014, df_2015])\n",
    "\n",
    "# Calculate correlation btween varable1 and variable2\n",
    "correlation.correlation_var(df, var1='reenrolled', var2='bsa_dummy')"
   ]
  },
  {
   "cell_type": "code",
   "execution_count": null,
   "metadata": {},
   "outputs": [],
   "source": []
  }
 ],
 "metadata": {
  "hide_input": false,
  "kernelspec": {
   "display_name": "Python 3",
   "language": "python",
   "name": "python3"
  },
  "language_info": {
   "codemirror_mode": {
    "name": "ipython",
    "version": 3
   },
   "file_extension": ".py",
   "mimetype": "text/x-python",
   "name": "python",
   "nbconvert_exporter": "python",
   "pygments_lexer": "ipython3",
   "version": "3.7.3"
  }
 },
 "nbformat": 4,
 "nbformat_minor": 2
}
