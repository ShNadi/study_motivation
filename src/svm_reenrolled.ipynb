{
 "cells": [
  {
   "cell_type": "code",
   "execution_count": 35,
   "metadata": {},
   "outputs": [],
   "source": [
    "import pandas as pd\n",
    "from imblearn.pipeline import make_pipeline\n",
    "from sklearn.feature_extraction.text import TfidfVectorizer\n",
    "from sklearn.metrics import confusion_matrix\n",
    "from sklearn.metrics import classification_report\n",
    "from sklearn.model_selection import cross_val_score\n",
    "from sklearn.metrics import accuracy_score\n",
    "from sklearn.model_selection import train_test_split\n",
    "from sklearn.svm import SVC\n",
    "import seaborn as sns\n",
    "import numpy as np\n",
    "from nltk.corpus import stopwords\n",
    "import matplotlib.pyplot as plt\n",
    "from sklearn.feature_selection import SelectFromModel\n",
    "from imblearn.pipeline import Pipeline\n",
    "from sklearn.preprocessing import StandardScaler, OneHotEncoder\n",
    "from sklearn.compose import ColumnTransformer\n",
    "from sklearn.preprocessing import FunctionTransformer\n",
    "from sklearn.pipeline import FeatureUnion\n",
    "from sklearn import preprocessing\n",
    "from sklearn.svm import LinearSVC\n"
   ]
  },
  {
   "cell_type": "code",
   "execution_count": 4,
   "metadata": {},
   "outputs": [],
   "source": [
    "def svm_func(df):\n",
    "\n",
    "    # keep test_set apart\n",
    "    df_train, df_test = train_test_split(df, test_size=0.25, stratify=df['reenrolled'], shuffle=True,\n",
    "                                             random_state=0)\n",
    "    X_train = df_train['motivation']\n",
    "    y_train = df_train['reenrolled']\n",
    "    X_test = df_test['motivation']\n",
    "    y_test = df_test['reenrolled']\n",
    "\n",
    " \n",
    "    stopword_list = list(stopwords.words('Dutch'))\n",
    "\n",
    "    pipe = make_pipeline(TfidfVectorizer(lowercase=True, stop_words=stopword_list), SVC(class_weight='balanced'))\n",
    "    scores = cross_val_score(pipe, X_train, y_train, cv=5)\n",
    "\n",
    "    print('5-fold cross validation scores:', scores)\n",
    "    print('average of 5-fold cross validation scores:', scores.mean())\n",
    "\n",
    "    pipe.fit(X_train, y_train)\n",
    "    predictions = pipe.predict(X_test)\n",
    "    print(\"Accuracy for SVM on test_set: %s\" % accuracy_score(y_test, predictions))\n",
    "    cm = confusion_matrix(y_test, predictions)\n",
    "    print(classification_report(y_test, predictions))\n",
    "\n",
    "  \n",
    "    sns.heatmap(cm / np.sum(cm), annot=True, fmt='.2%', cmap='Blues')\n",
    "    plt.show()\n",
    "\n"
   ]
  },
  {
   "cell_type": "code",
   "execution_count": 5,
   "metadata": {},
   "outputs": [
    {
     "name": "stdout",
     "output_type": "stream",
     "text": [
      "5-fold cross validation scores: [0.74220963 0.73654391 0.74409821 0.7299339  0.74787535]\n",
      "average of 5-fold cross validation scores: 0.7401322001888574\n",
      "Accuracy for SVM on test_set: 0.7376770538243627\n",
      "              precision    recall  f1-score   support\n",
      "\n",
      "           0       0.78      0.92      0.84      1349\n",
      "           1       0.35      0.13      0.19       416\n",
      "\n",
      "    accuracy                           0.74      1765\n",
      "   macro avg       0.56      0.53      0.52      1765\n",
      "weighted avg       0.68      0.74      0.69      1765\n",
      "\n"
     ]
    },
    {
     "data": {
      "image/png": "[encoded data removed]",
      "text/plain": [
       "<Figure size 432x288 with 2 Axes>"
      ]
     },
     "metadata": {
      "needs_background": "light"
     },
     "output_type": "display_data"
    }
   ],
   "source": [
    "df = pd.read_csv(r'..\\data\\processed\\motivation_liwc_meta_pos_topic_n15.csv')\n",
    "# df.dropna(subset=['bsa_dummy', 'motivation'], inplace=True)\n",
    "df = df.fillna(method='ffill')\n",
    "\n",
    "svm_func(df)"
   ]
  },
  {
   "cell_type": "markdown",
   "metadata": {},
   "source": [
    "# 2- Initial numeric features\n"
   ]
  },
  {
   "cell_type": "code",
   "execution_count": 16,
   "metadata": {},
   "outputs": [],
   "source": [
    "def svm_initial_features(df):  \n",
    "    df = df.fillna(method='ffill')\n",
    "    categorical_features = ['cohort', 'field', 'prior_educ', 'previously_enrolled', 'multiple_requests', 'gender',\n",
    "                                'interest', 'ase', 'year', 'program']\n",
    "    numeric_features = ['age', 'HSGPA']\n",
    "    target = df['reenrolled']\n",
    "    df1 = df[categorical_features]\n",
    "    df2 = df[numeric_features]\n",
    "    df = pd.concat([df1, df2], axis=1)\n",
    "    df = pd.concat([df, target], axis=1)\n",
    "\n",
    "    # keep test_set apart\n",
    "    df_train, df_test = train_test_split(df, test_size=0.25, stratify=df['reenrolled'], shuffle=True,\n",
    "                                             random_state=0)\n",
    "\n",
    "    X_train = df_train.loc[:,df_train.columns !='reenrolled']\n",
    "    y_train = df_train['reenrolled']\n",
    "    X_test = df_test.loc[:,df_test.columns !='reenrolled']\n",
    "    y_test = df_test['reenrolled']\n",
    "    \n",
    "    numeric_transformer = Pipeline(steps=[('scaler', StandardScaler())])\n",
    "\n",
    "    categorical_transformer = Pipeline(steps=[\n",
    "        ('onehot', OneHotEncoder(handle_unknown='ignore'))])\n",
    "\n",
    "    preprocessor = ColumnTransformer(\n",
    "        transformers=[\n",
    "            ('num', numeric_transformer, numeric_features),\n",
    "            ('cat', categorical_transformer, categorical_features)])\n",
    "\n",
    " \n",
    "    pipe = make_pipeline(preprocessor,                         \n",
    "                         SVC(class_weight='balanced'))\n",
    "    \n",
    "    scores = cross_val_score(pipe, X_train, y_train, cv=5)\n",
    "\n",
    "    print('5-fold cross validation scores:', scores)\n",
    "    print('average of 5-fold cross validation scores:', scores.mean())\n",
    "\n",
    "    pipe.fit(X_train, y_train)\n",
    "    predictions = pipe.predict(X_test)\n",
    "    print(\"Accuracy for SVM on test_set: %s\" % accuracy_score(y_test, predictions))\n",
    "    cm = confusion_matrix(y_test, predictions)\n",
    "    print(classification_report(y_test, predictions))\n",
    "\n",
    "  \n",
    "    sns.heatmap(cm / np.sum(cm), annot=True, fmt='.2%', cmap='Blues')\n",
    "    plt.show()"
   ]
  },
  {
   "cell_type": "code",
   "execution_count": 17,
   "metadata": {},
   "outputs": [
    {
     "name": "stdout",
     "output_type": "stream",
     "text": [
      "5-fold cross validation scores: [0.6279509  0.61378659 0.62322946 0.58545798 0.62983947]\n",
      "average of 5-fold cross validation scores: 0.6160528800755429\n",
      "Accuracy for SVM on test_set: 0.6090651558073654\n",
      "              precision    recall  f1-score   support\n",
      "\n",
      "           0       0.84      0.60      0.70      1349\n",
      "           1       0.33      0.63      0.43       416\n",
      "\n",
      "    accuracy                           0.61      1765\n",
      "   macro avg       0.59      0.62      0.57      1765\n",
      "weighted avg       0.72      0.61      0.64      1765\n",
      "\n"
     ]
    },
    {
     "data": {
      "image/png": "[encoded data removed]",
      "text/plain": [
       "<Figure size 432x288 with 2 Axes>"
      ]
     },
     "metadata": {
      "needs_background": "light"
     },
     "output_type": "display_data"
    }
   ],
   "source": [
    "df = pd.read_csv(r'..\\data\\processed\\motivation_liwc_meta_pos_topic_n15.csv')\n",
    "\n",
    "svm_initial_features(df)"
   ]
  },
  {
   "cell_type": "markdown",
   "metadata": {},
   "source": [
    "# 3- Added features + initial features- only numeric and categorical"
   ]
  },
  {
   "cell_type": "code",
   "execution_count": 20,
   "metadata": {},
   "outputs": [],
   "source": [
    "def svm_all_nontext_features(df):\n",
    "    df = df.fillna(method='ffill')\n",
    "    categorical_features = ['cohort', 'field', 'prior_educ', 'previously_enrolled', 'multiple_requests', 'gender',\n",
    "                                'interest', 'ase', 'year', 'program']\n",
    "    numeric_features = ['age', 'HSGPA', 'WC', 'WPS', 'Sixltr',\n",
    "                            'Dic', 'funct', 'pronoun', 'ppron', 'i',\n",
    "                            'we', 'you', 'shehe', 'they', 'ipron',\n",
    "                            'article', 'verb', 'auxverb', 'past', 'present',\n",
    "                            'future', 'adverb', 'preps', 'conj', 'negate',\n",
    "                            'quant', 'number', 'swear', 'social', 'family',\n",
    "                            'friend', 'humans', 'affect', 'posemo', 'negemo',\n",
    "                            'anx', 'anger', 'sad', 'cogmech', 'insight',\n",
    "                            'cause', 'discrep', 'tentat', 'certain', 'inhib',\n",
    "                            'incl', 'excl', 'percept', 'see', 'hear',\n",
    "                            'feel', 'bio', 'body', 'health', 'sexual',\n",
    "                            'ingest', 'relativ', 'motion', 'space', 'time',\n",
    "                            'work', 'achieve', 'leisure', 'home', 'money',\n",
    "                            'relig', 'death', 'assent', 'nonfl', 'filler',\n",
    "                            'pronadv', 'shehethey', 'AllPunc', 'Period', 'Comma',\n",
    "                            'Colon', 'SemiC', 'QMark', 'Exclam', 'Dash',\n",
    "                            'Quote', 'Apostro', 'Parenth', 'OtherP', 'count_punct',\n",
    "                            'count_stopwords', 'nr_token', 'nr_adj', 'nr_noun', 'nr_verb',\n",
    "                            'nr_number', 'topic1', 'topic2', 'topic3', 'topic4',\n",
    "                            'topic5', 'topic6', 'topic7', 'topic8', 'topic9',\n",
    "                            'topic10', 'topic11', 'topic12', 'topic13', 'topic14',\n",
    "                            'topic15']\n",
    "\n",
    "    # Change object (string) type of features to float\n",
    "    change_type = ['WPS', 'Sixltr',\n",
    "                       'Dic', 'funct', 'pronoun', 'ppron', 'i',\n",
    "                       'we', 'you', 'shehe', 'they', 'ipron',\n",
    "                       'article', 'verb', 'auxverb', 'past', 'present',\n",
    "                       'future', 'adverb', 'preps', 'conj', 'negate',\n",
    "                       'quant', 'number', 'swear', 'social', 'family',\n",
    "                       'friend', 'humans', 'affect', 'posemo', 'negemo',\n",
    "                       'anx', 'anger', 'sad', 'cogmech', 'insight',\n",
    "                       'cause', 'discrep', 'tentat', 'certain', 'inhib',\n",
    "                       'incl', 'excl', 'percept', 'see', 'hear',\n",
    "                       'feel', 'bio', 'body', 'health', 'sexual',\n",
    "                       'ingest', 'relativ', 'motion', 'space', 'time',\n",
    "                       'work', 'achieve', 'leisure', 'home', 'money',\n",
    "                       'relig', 'death', 'assent', 'nonfl', 'filler',\n",
    "                       'pronadv', 'shehethey', 'AllPunc', 'Period', 'Comma',\n",
    "                       'Colon', 'SemiC', 'QMark', 'Exclam', 'Dash',\n",
    "                       'Quote', 'Apostro', 'Parenth', 'OtherP']\n",
    "    df[change_type] = df[change_type].apply(lambda x: x.str.replace(',', '.'))\n",
    "    df[change_type] = df[change_type].astype(float).fillna(0.0)\n",
    "\n",
    "    target = df['reenrolled']\n",
    "\n",
    "    df1 = df[categorical_features]\n",
    "    df2 = df[numeric_features]\n",
    "    df = pd.concat([df1, df2], axis=1)\n",
    "    df = pd.concat([df, target], axis=1)\n",
    "\n",
    "    # keep test_set apart\n",
    "    df_train, df_test = train_test_split(df, test_size=0.25, stratify=df['reenrolled'], shuffle=True,\n",
    "                                             random_state=0)\n",
    "\n",
    "    X_train = df_train.loc[:,df_train.columns !='reenrolled']\n",
    "    y_train = df_train['reenrolled']\n",
    "    X_test = df_test.loc[:,df_test.columns !='reenrolled']\n",
    "    y_test = df_test['reenrolled']\n",
    "    \n",
    "    numeric_transformer = Pipeline(steps=[('scaler', StandardScaler())])\n",
    "\n",
    "    categorical_transformer = Pipeline(steps=[\n",
    "        ('onehot', OneHotEncoder(handle_unknown='ignore'))])\n",
    "\n",
    "    preprocessor = ColumnTransformer(\n",
    "        transformers=[\n",
    "            ('num', numeric_transformer, numeric_features),\n",
    "            ('cat', categorical_transformer, categorical_features)])\n",
    "\n",
    " \n",
    "    pipe = make_pipeline(preprocessor,                         \n",
    "                         SVC(class_weight='balanced'))\n",
    "    \n",
    "    scores = cross_val_score(pipe, X_train, y_train, cv=5)\n",
    "\n",
    "    print('5-fold cross validation scores:', scores)\n",
    "    print('average of 5-fold cross validation scores:', scores.mean())\n",
    "\n",
    "    pipe.fit(X_train, y_train)\n",
    "    predictions = pipe.predict(X_test)\n",
    "    print(\"Accuracy for SVM on test_set: %s\" % accuracy_score(y_test, predictions))\n",
    "    cm = confusion_matrix(y_test, predictions)\n",
    "    print(classification_report(y_test, predictions))\n",
    "\n",
    "  \n",
    "    sns.heatmap(cm / np.sum(cm), annot=True, fmt='.2%', cmap='Blues')\n",
    "    plt.show()\n",
    "\n"
   ]
  },
  {
   "cell_type": "code",
   "execution_count": 21,
   "metadata": {},
   "outputs": [
    {
     "name": "stdout",
     "output_type": "stream",
     "text": [
      "5-fold cross validation scores: [0.66383381 0.61567517 0.66383381 0.65061379 0.64589235]\n",
      "average of 5-fold cross validation scores: 0.6479697828139754\n",
      "Accuracy for SVM on test_set: 0.6390934844192635\n",
      "              precision    recall  f1-score   support\n",
      "\n",
      "           0       0.80      0.71      0.75      1349\n",
      "           1       0.30      0.41      0.35       416\n",
      "\n",
      "    accuracy                           0.64      1765\n",
      "   macro avg       0.55      0.56      0.55      1765\n",
      "weighted avg       0.68      0.64      0.66      1765\n",
      "\n"
     ]
    },
    {
     "data": {
      "image/png": "[encoded data removed]",
      "text/plain": [
       "<Figure size 432x288 with 2 Axes>"
      ]
     },
     "metadata": {
      "needs_background": "light"
     },
     "output_type": "display_data"
    }
   ],
   "source": [
    "df = pd.read_csv(r'..\\data\\processed\\motivation_liwc_meta_pos_topic_n15.csv')\n",
    "\n",
    "svm_all_nontext_features(df)"
   ]
  },
  {
   "cell_type": "markdown",
   "metadata": {},
   "source": [
    "# 4- Text + Initial non-textual features"
   ]
  },
  {
   "cell_type": "code",
   "execution_count": 31,
   "metadata": {},
   "outputs": [],
   "source": [
    "def svm_text_initial_features(df):\n",
    "    stopword_list = list(stopwords.words('Dutch'))\n",
    "\n",
    "    df = df.fillna(method='ffill')\n",
    "    categorical_features = ['cohort', 'field', 'prior_educ', 'previously_enrolled', 'multiple_requests', 'gender',\n",
    "                                'interest', 'ase', 'year', 'program']\n",
    "    numeric_features = ['age', 'HSGPA']\n",
    "    text_features = ['motivation']\n",
    "    \n",
    "    target = df['reenrolled']\n",
    "    \n",
    "    get_text_data = FunctionTransformer(lambda x: x['motivation'], validate=False)\n",
    "    get_numeric_data = FunctionTransformer(lambda x: x[numeric_features], validate=False)\n",
    "    get_categorical_data = FunctionTransformer(lambda x: x[categorical_features], validate=False)\n",
    "\n",
    "    process_and_join_features = Pipeline([\n",
    "        ('features', FeatureUnion([\n",
    "            ('numeric_features', Pipeline([\n",
    "                ('selector', get_numeric_data),\n",
    "                ('scaler', preprocessing.StandardScaler())\n",
    "\n",
    "            ])),\n",
    "            ('categorical_features', Pipeline([\n",
    "                ('selector', get_categorical_data),\n",
    "                ('onehot', OneHotEncoder(handle_unknown='ignore'))\n",
    "\n",
    "            ])),\n",
    "            ('text_features', Pipeline([\n",
    "                ('selector', get_text_data),\n",
    "                ('vec', TfidfVectorizer(lowercase=True, stop_words=stopword_list))\n",
    "            ]))\n",
    "        ])),\n",
    "\n",
    "\n",
    "        ('clf', SVC(class_weight='balanced'))\n",
    "    ])\n",
    "    \n",
    "  \n",
    "    \n",
    "    df = df.dropna()\n",
    "    text = df['motivation']\n",
    "    num = df[numeric_features]\n",
    "    cat = df[categorical_features]\n",
    "    df_features =pd.concat([text,num], axis=1)\n",
    "    df_features =pd.concat([df_features,cat], axis=1)\n",
    "\n",
    "    \n",
    "    X_train, X_val, y_train, y_val = train_test_split(df_features, df['reenrolled'], stratify=df['reenrolled'], test_size=0.25, random_state=0)\n",
    "    \n",
    " \n",
    "    process_and_join_features.fit(X_train, y_train)\n",
    "#     predictions_lt = process_and_join_features.predict(X_val)\n",
    "    \n",
    "    scores = cross_val_score(process_and_join_features, X_train, y_train, cv=5)\n",
    "\n",
    "    print('5-fold cross validation scores:', scores)\n",
    "    print('average of 5-fold cross validation scores:', scores.mean())\n",
    "\n",
    "    process_and_join_features.fit(X_train, y_train)\n",
    "    predictions = process_and_join_features.predict(X_val)\n",
    "    print(\"Accuracy for SVM on test_set: %s\" % accuracy_score(y_val, predictions))\n",
    "    cm = confusion_matrix(y_val, predictions)\n",
    "    print(classification_report(y_val, predictions))\n",
    "\n",
    "  \n",
    "    sns.heatmap(cm / np.sum(cm), annot=True, fmt='.2%', cmap='Blues')\n",
    "    plt.show()\n"
   ]
  },
  {
   "cell_type": "code",
   "execution_count": 32,
   "metadata": {},
   "outputs": [
    {
     "name": "stdout",
     "output_type": "stream",
     "text": [
      "5-fold cross validation scores: [0.63172805 0.61756374 0.63456091 0.59301228 0.6421152 ]\n",
      "average of 5-fold cross validation scores: 0.6237960339943343\n",
      "Accuracy for SVM on test_set: 0.6169971671388101\n",
      "              precision    recall  f1-score   support\n",
      "\n",
      "           0       0.84      0.61      0.71      1349\n",
      "           1       0.33      0.63      0.44       416\n",
      "\n",
      "    accuracy                           0.62      1765\n",
      "   macro avg       0.59      0.62      0.57      1765\n",
      "weighted avg       0.72      0.62      0.65      1765\n",
      "\n"
     ]
    },
    {
     "data": {
      "image/png": "[encoded data removed]",
      "text/plain": [
       "<Figure size 432x288 with 2 Axes>"
      ]
     },
     "metadata": {
      "needs_background": "light"
     },
     "output_type": "display_data"
    }
   ],
   "source": [
    "df = pd.read_csv(r'..\\data\\processed\\motivation_liwc_meta_pos_topic_n15.csv')\n",
    "\n",
    "\n",
    "svm_text_initial_features(df)"
   ]
  },
  {
   "cell_type": "markdown",
   "metadata": {},
   "source": [
    "# 5- Text + all non-textual features"
   ]
  },
  {
   "cell_type": "code",
   "execution_count": 36,
   "metadata": {},
   "outputs": [],
   "source": [
    "def svm_all_features(df):\n",
    "    stopword_list = list(stopwords.words('Dutch'))\n",
    "\n",
    "    df = df.fillna(method='ffill')\n",
    "    categorical_features = ['cohort', 'field', 'prior_educ', 'previously_enrolled', 'multiple_requests', 'gender',\n",
    "                                'interest', 'ase', 'year', 'program']\n",
    "    numeric_features = ['age', 'HSGPA', 'WC', 'WPS', 'Sixltr',\n",
    "                        'Dic', 'funct', 'pronoun', 'ppron', 'i',\n",
    "                        'we', 'you', 'shehe', 'they', 'ipron',\n",
    "                        'article', 'verb', 'auxverb', 'past', 'present',\n",
    "                        'future', 'adverb', 'preps', 'conj', 'negate',\n",
    "                        'quant', 'number', 'swear', 'social', 'family',\n",
    "                        'friend', 'humans', 'affect', 'posemo', 'negemo',\n",
    "                        'anx', 'anger', 'sad', 'cogmech', 'insight',\n",
    "                        'cause', 'discrep', 'tentat', 'certain', 'inhib',\n",
    "                        'incl', 'excl', 'percept', 'see', 'hear',\n",
    "                        'feel', 'bio', 'body', 'health', 'sexual',\n",
    "                        'ingest', 'relativ', 'motion', 'space', 'time',\n",
    "                        'work', 'achieve', 'leisure', 'home', 'money',\n",
    "                        'relig', 'death', 'assent', 'nonfl', 'filler',\n",
    "                        'pronadv', 'shehethey', 'AllPunc', 'Period', 'Comma',\n",
    "                        'Colon', 'SemiC', 'QMark', 'Exclam', 'Dash',\n",
    "                        'Quote', 'Apostro', 'Parenth', 'OtherP', 'count_punct',\n",
    "                        'count_stopwords', 'nr_token', 'nr_adj', 'nr_noun', 'nr_verb',\n",
    "                        'nr_number', 'topic1', 'topic2', 'topic3', 'topic4',\n",
    "                        'topic5', 'topic6', 'topic7', 'topic8', 'topic9',\n",
    "                        'topic10', 'topic11', 'topic12', 'topic13', 'topic14',\n",
    "                        'topic15']\n",
    "    text_features = ['motivation']\n",
    "    \n",
    "    target = df['reenrolled']\n",
    "    \n",
    "    get_text_data = FunctionTransformer(lambda x: x['motivation'], validate=False)\n",
    "    get_numeric_data = FunctionTransformer(lambda x: x[numeric_features], validate=False)\n",
    "    get_categorical_data = FunctionTransformer(lambda x: x[categorical_features], validate=False)\n",
    "\n",
    "    process_and_join_features = Pipeline([\n",
    "        ('features', FeatureUnion([\n",
    "            ('numeric_features', Pipeline([\n",
    "                ('selector', get_numeric_data),\n",
    "                ('scaler', preprocessing.StandardScaler())\n",
    "\n",
    "            ])),\n",
    "            ('categorical_features', Pipeline([\n",
    "                ('selector', get_categorical_data),\n",
    "                ('onehot', OneHotEncoder(handle_unknown='ignore'))\n",
    "\n",
    "            ])),\n",
    "            ('text_features', Pipeline([\n",
    "                ('selector', get_text_data),\n",
    "                ('vec', TfidfVectorizer(lowercase=True, stop_words=stopword_list)),\n",
    "                ('feature_selection', SelectFromModel(LinearSVC(penalty=\"l1\", dual=False)))\n",
    "            ]))\n",
    "        ])),\n",
    "\n",
    "\n",
    "        ('clf', SVC(class_weight='balanced'))\n",
    "    ])\n",
    "    \n",
    "  \n",
    "    \n",
    "    df = df.dropna()\n",
    "    text = df['motivation']\n",
    "    num = df[numeric_features]\n",
    "    cat = df[categorical_features]\n",
    "    df_features =pd.concat([text,num], axis=1)\n",
    "    df_features =pd.concat([df_features,cat], axis=1)\n",
    "\n",
    "    \n",
    "    X_train, X_val, y_train, y_val = train_test_split(df_features, df['reenrolled'], stratify=df['reenrolled'], test_size=0.25, random_state=0)\n",
    "    \n",
    " \n",
    "    process_and_join_features.fit(X_train, y_train)\n",
    "#     predictions_lt = process_and_join_features.predict(X_val)\n",
    "    \n",
    "    scores = cross_val_score(process_and_join_features, X_train, y_train, cv=5)\n",
    "\n",
    "    print('5-fold cross validation scores:', scores)\n",
    "    print('average of 5-fold cross validation scores:', scores.mean())\n",
    "\n",
    "    process_and_join_features.fit(X_train, y_train)\n",
    "    predictions = process_and_join_features.predict(X_val)\n",
    "    print(\"Accuracy for SVM on test_set: %s\" % accuracy_score(y_val, predictions))\n",
    "    cm = confusion_matrix(y_val, predictions)\n",
    "    print(classification_report(y_val, predictions))\n",
    "\n",
    "  \n",
    "    sns.heatmap(cm / np.sum(cm), annot=True, fmt='.2%', cmap='Blues')\n",
    "    plt.show()\n"
   ]
  },
  {
   "cell_type": "code",
   "execution_count": 37,
   "metadata": {},
   "outputs": [
    {
     "name": "stdout",
     "output_type": "stream",
     "text": [
      "5-fold cross validation scores: [0.66288952 0.62134089 0.66572238 0.6496695  0.64683664]\n",
      "average of 5-fold cross validation scores: 0.6492917847025496\n",
      "Accuracy for SVM on test_set: 0.6407932011331445\n",
      "              precision    recall  f1-score   support\n",
      "\n",
      "           0       0.80      0.71      0.75      1349\n",
      "           1       0.30      0.41      0.35       416\n",
      "\n",
      "    accuracy                           0.64      1765\n",
      "   macro avg       0.55      0.56      0.55      1765\n",
      "weighted avg       0.68      0.64      0.66      1765\n",
      "\n"
     ]
    },
    {
     "data": {
      "image/png": "[encoded data removed]",
      "text/plain": [
       "<Figure size 432x288 with 2 Axes>"
      ]
     },
     "metadata": {
      "needs_background": "light"
     },
     "output_type": "display_data"
    }
   ],
   "source": [
    "df = pd.read_csv(r'..\\data\\processed\\motivation_liwc_meta_pos_topic_n15.csv')\n",
    "change_type = ['WPS', 'Sixltr',\n",
    "                   'Dic', 'funct', 'pronoun', 'ppron', 'i',\n",
    "                   'we', 'you', 'shehe', 'they', 'ipron',\n",
    "                   'article', 'verb', 'auxverb', 'past', 'present',\n",
    "                   'future', 'adverb', 'preps', 'conj', 'negate',\n",
    "                   'quant', 'number', 'swear', 'social', 'family',\n",
    "                   'friend', 'humans', 'affect', 'posemo', 'negemo',\n",
    "                   'anx', 'anger', 'sad', 'cogmech', 'insight',\n",
    "                   'cause', 'discrep', 'tentat', 'certain', 'inhib',\n",
    "                   'incl', 'excl', 'percept', 'see', 'hear',\n",
    "                   'feel', 'bio', 'body', 'health', 'sexual',\n",
    "                   'ingest', 'relativ', 'motion', 'space', 'time',\n",
    "                   'work', 'achieve', 'leisure', 'home', 'money',\n",
    "                   'relig', 'death', 'assent', 'nonfl', 'filler',\n",
    "                   'pronadv', 'shehethey', 'AllPunc', 'Period', 'Comma',\n",
    "                   'Colon', 'SemiC', 'QMark', 'Exclam', 'Dash',\n",
    "                   'Quote', 'Apostro', 'Parenth', 'OtherP']\n",
    "df[change_type] = df[change_type].apply(lambda x: x.str.replace(',', '.'))\n",
    "df[change_type] = df[change_type].astype(float).fillna(0.0)\n",
    "svm_all_features(df)"
   ]
  },
  {
   "cell_type": "markdown",
   "metadata": {},
   "source": [
    "# 6 - Text + all features excluding LIWC\n"
   ]
  },
  {
   "cell_type": "code",
   "execution_count": 42,
   "metadata": {},
   "outputs": [],
   "source": [
    "def svm_all_without_liwc_features(df):\n",
    "    stopword_list = list(stopwords.words('Dutch'))\n",
    "\n",
    "    df = df.fillna(method='ffill')\n",
    "    categorical_features = ['cohort', 'field', 'prior_educ', 'previously_enrolled', 'multiple_requests', 'gender',\n",
    "                                'interest', 'ase', 'year', 'program']\n",
    "    numeric_features = ['age', 'HSGPA', 'nr_token', 'nr_adj', 'nr_noun', 'nr_verb',\n",
    "                        'nr_number', 'topic1', 'topic2', 'topic3', 'topic4',\n",
    "                        'topic5', 'topic6', 'topic7', 'topic8', 'topic9',\n",
    "                        'topic10', 'topic11', 'topic12', 'topic13', 'topic14',\n",
    "                        'topic15']\n",
    "    text_features = ['motivation']\n",
    "    \n",
    "    target = df['reenrolled']\n",
    "    \n",
    "    get_text_data = FunctionTransformer(lambda x: x['motivation'], validate=False)\n",
    "    get_numeric_data = FunctionTransformer(lambda x: x[numeric_features], validate=False)\n",
    "    get_categorical_data = FunctionTransformer(lambda x: x[categorical_features], validate=False)\n",
    "\n",
    "    process_and_join_features = Pipeline([\n",
    "        ('features', FeatureUnion([\n",
    "            ('numeric_features', Pipeline([\n",
    "                ('selector', get_numeric_data),\n",
    "                ('scaler', preprocessing.StandardScaler())\n",
    "\n",
    "            ])),\n",
    "            ('categorical_features', Pipeline([\n",
    "                ('selector', get_categorical_data),\n",
    "                ('onehot', OneHotEncoder(handle_unknown='ignore'))\n",
    "\n",
    "            ])),\n",
    "            ('text_features', Pipeline([\n",
    "                ('selector', get_text_data),\n",
    "                ('vec', TfidfVectorizer(lowercase=True, stop_words=stopword_list)),\n",
    "                ('feature_selection', SelectFromModel(LinearSVC(penalty=\"l1\", dual=False)))\n",
    "            ]))\n",
    "        ])),\n",
    "\n",
    "\n",
    "        ('clf', SVC(class_weight='balanced'))\n",
    "    ])\n",
    "    \n",
    "  \n",
    "    \n",
    "    df = df.dropna()\n",
    "    text = df['motivation']\n",
    "    num = df[numeric_features]\n",
    "    cat = df[categorical_features]\n",
    "    df_features =pd.concat([text,num], axis=1)\n",
    "    df_features =pd.concat([df_features,cat], axis=1)\n",
    "\n",
    "    \n",
    "    X_train, X_val, y_train, y_val = train_test_split(df_features, df['reenrolled'], stratify=df['reenrolled'], test_size=0.25, random_state=0)\n",
    "    \n",
    " \n",
    "    process_and_join_features.fit(X_train, y_train)\n",
    "#     predictions_lt = process_and_join_features.predict(X_val)\n",
    "    \n",
    "    scores = cross_val_score(process_and_join_features, X_train, y_train, cv=5)\n",
    "\n",
    "    print('5-fold cross validation scores:', scores)\n",
    "    print('average of 5-fold cross validation scores:', scores.mean())\n",
    "\n",
    "    process_and_join_features.fit(X_train, y_train)\n",
    "    predictions = process_and_join_features.predict(X_val)\n",
    "    print(\"Accuracy for SVM on test_set: %s\" % accuracy_score(y_val, predictions))\n",
    "    cm = confusion_matrix(y_val, predictions)\n",
    "    print(classification_report(y_val, predictions))\n",
    "\n",
    "  \n",
    "    sns.heatmap(cm / np.sum(cm), annot=True, fmt='.2%', cmap='Blues')\n",
    "    plt.show()\n"
   ]
  },
  {
   "cell_type": "code",
   "execution_count": 43,
   "metadata": {},
   "outputs": [
    {
     "name": "stdout",
     "output_type": "stream",
     "text": [
      "5-fold cross validation scores: [0.62134089 0.59678942 0.62606232 0.56751653 0.61095373]\n",
      "average of 5-fold cross validation scores: 0.6045325779036828\n",
      "Accuracy for SVM on test_set: 0.6073654390934844\n",
      "              precision    recall  f1-score   support\n",
      "\n",
      "           0       0.83      0.62      0.71      1349\n",
      "           1       0.32      0.58      0.41       416\n",
      "\n",
      "    accuracy                           0.61      1765\n",
      "   macro avg       0.57      0.60      0.56      1765\n",
      "weighted avg       0.71      0.61      0.64      1765\n",
      "\n"
     ]
    },
    {
     "data": {
      "image/png": "[encoded data removed]",
      "text/plain": [
       "<Figure size 432x288 with 2 Axes>"
      ]
     },
     "metadata": {
      "needs_background": "light"
     },
     "output_type": "display_data"
    }
   ],
   "source": [
    "df = pd.read_csv(r'..\\data\\processed\\motivation_liwc_meta_pos_topic_n15.csv')\n",
    "\n",
    "svm_all_without_liwc_features(df)"
   ]
  },
  {
   "cell_type": "code",
   "execution_count": null,
   "metadata": {},
   "outputs": [],
   "source": []
  }
 ],
 "metadata": {
  "hide_input": false,
  "kernelspec": {
   "display_name": "Python 3",
   "language": "python",
   "name": "python3"
  },
  "language_info": {
   "codemirror_mode": {
    "name": "ipython",
    "version": 3
   },
   "file_extension": ".py",
   "mimetype": "text/x-python",
   "name": "python",
   "nbconvert_exporter": "python",
   "pygments_lexer": "ipython3",
   "version": "3.7.3"
  }
 },
 "nbformat": 4,
 "nbformat_minor": 2
}
