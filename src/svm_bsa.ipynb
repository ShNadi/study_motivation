{
 "cells": [
  {
   "cell_type": "markdown",
   "metadata": {},
   "source": [
    "# Text-only"
   ]
  },
  {
   "cell_type": "code",
   "execution_count": 21,
   "metadata": {},
   "outputs": [],
   "source": [
    "import pandas as pd\n",
    "from imblearn.pipeline import make_pipeline\n",
    "from sklearn.feature_extraction.text import TfidfVectorizer\n",
    "from sklearn.metrics import confusion_matrix\n",
    "from sklearn.metrics import classification_report\n",
    "from sklearn.model_selection import cross_val_score\n",
    "from sklearn.metrics import accuracy_score\n",
    "from sklearn.model_selection import train_test_split\n",
    "from sklearn.svm import SVC\n",
    "import seaborn as sns\n",
    "import numpy as np\n",
    "from nltk.corpus import stopwords\n",
    "import matplotlib.pyplot as plt\n",
    "from contextlib import redirect_stdout\n",
    "import pickle\n",
    "\n",
    "\n",
    "def svm_func(df):\n",
    "\n",
    "    # keep test_set apart\n",
    "    df_train, df_test = train_test_split(df, test_size=0.25, stratify=df['bsa_dummy'], shuffle=True,\n",
    "                                             random_state=0)\n",
    "    X_train = df_train['motivation']\n",
    "    y_train = df_train['bsa_dummy']\n",
    "    X_test = df_test['motivation']\n",
    "    y_test = df_test['bsa_dummy']\n",
    "\n",
    " \n",
    "    stopword_list = list(stopwords.words('Dutch'))\n",
    "\n",
    "    pipe = make_pipeline(TfidfVectorizer(lowercase=True, stop_words=stopword_list), SVC(class_weight='balanced'))\n",
    "    scores = cross_val_score(pipe, X_train, y_train, cv=5)\n",
    "\n",
    "    print('5-fold cross validation scores:', scores)\n",
    "    print('average of 5-fold cross validation scores:', scores.mean())\n",
    "\n",
    "    pipe.fit(X_train, y_train)\n",
    "    predictions = pipe.predict(X_test)\n",
    "    print(\"Accuracy for SVM on test_set: %s\" % accuracy_score(y_test, predictions))\n",
    "    cm = confusion_matrix(y_test, predictions)\n",
    "    print(classification_report(y_test, predictions))\n",
    "\n",
    "  \n",
    "    sns.heatmap(cm / np.sum(cm), annot=True, fmt='.2%', cmap='Blues')\n",
    "    plt.show()\n",
    "\n"
   ]
  },
  {
   "cell_type": "code",
   "execution_count": 22,
   "metadata": {},
   "outputs": [
    {
     "name": "stdout",
     "output_type": "stream",
     "text": [
      "5-fold cross validation scores: [0.7082153  0.70727101 0.70443815 0.70727101 0.70727101]\n",
      "average of 5-fold cross validation scores: 0.7068932955618508\n",
      "Accuracy for SVM on test_set: 0.7246458923512747\n",
      "              precision    recall  f1-score   support\n",
      "\n",
      "           0       0.77      0.89      0.83      1312\n",
      "           1       0.43      0.24      0.31       453\n",
      "\n",
      "    accuracy                           0.72      1765\n",
      "   macro avg       0.60      0.57      0.57      1765\n",
      "weighted avg       0.69      0.72      0.70      1765\n",
      "\n"
     ]
    },
    {
     "data": {
      "image/png": "[encoded data removed]",
      "text/plain": [
       "<Figure size 432x288 with 2 Axes>"
      ]
     },
     "metadata": {
      "needs_background": "light"
     },
     "output_type": "display_data"
    }
   ],
   "source": [
    "df = pd.read_csv(r'..\\data\\processed\\motivation_liwc_meta_pos_topic_n15.csv')\n",
    "# df.dropna(subset=['bsa_dummy', 'motivation'], inplace=True)\n",
    "df = df.fillna(method='ffill')\n",
    "\n",
    "svm_func(df)\n"
   ]
  },
  {
   "cell_type": "markdown",
   "metadata": {},
   "source": [
    "# Text-only: feature selection"
   ]
  },
  {
   "cell_type": "code",
   "execution_count": 19,
   "metadata": {},
   "outputs": [],
   "source": [
    "import pandas as pd\n",
    "from imblearn.pipeline import make_pipeline\n",
    "from sklearn.feature_extraction.text import TfidfVectorizer\n",
    "from sklearn.metrics import confusion_matrix\n",
    "from sklearn.metrics import classification_report\n",
    "from sklearn.model_selection import cross_val_score\n",
    "from sklearn.metrics import accuracy_score\n",
    "from sklearn.model_selection import train_test_split\n",
    "from sklearn.svm import SVC\n",
    "import seaborn as sns\n",
    "import numpy as np\n",
    "from nltk.corpus import stopwords\n",
    "import matplotlib.pyplot as plt\n",
    "from contextlib import redirect_stdout\n",
    "import pickle\n",
    "from sklearn.feature_selection import SelectFromModel\n",
    "\n",
    "\n",
    "def svm_text_featureselection(df):\n",
    "\n",
    "    # keep test_set apart\n",
    "    df_train, df_test = train_test_split(df, test_size=0.25, stratify=df['bsa_dummy'], shuffle=True,\n",
    "                                             random_state=0)\n",
    "    X_train = df_train['motivation']\n",
    "    y_train = df_train['bsa_dummy']\n",
    "    X_test = df_test['motivation']\n",
    "    y_test = df_test['bsa_dummy']\n",
    "\n",
    " \n",
    "    stopword_list = list(stopwords.words('Dutch'))\n",
    "\n",
    "    pipe = make_pipeline(TfidfVectorizer(lowercase=True, stop_words=stopword_list),\n",
    "                         SelectFromModel(LinearSVC(penalty=\"l1\", dual=False)),\n",
    "                         SVC(class_weight='balanced'))\n",
    "    scores = cross_val_score(pipe, X_train, y_train, cv=5)\n",
    "\n",
    "    print('5-fold cross validation scores:', scores)\n",
    "    print('average of 5-fold cross validation scores:', scores.mean())\n",
    "\n",
    "    pipe.fit(X_train, y_train)\n",
    "    predictions = pipe.predict(X_test)\n",
    "    print(\"Accuracy for SVM on test_set: %s\" % accuracy_score(y_test, predictions))\n",
    "    cm = confusion_matrix(y_test, predictions)\n",
    "    print(classification_report(y_test, predictions))\n",
    "\n",
    "  \n",
    "    sns.heatmap(cm / np.sum(cm), annot=True, fmt='.2%', cmap='Blues')\n",
    "    plt.show()\n",
    "\n"
   ]
  },
  {
   "cell_type": "code",
   "execution_count": 20,
   "metadata": {},
   "outputs": [
    {
     "name": "stdout",
     "output_type": "stream",
     "text": [
      "5-fold cross validation scores: [0.66100094 0.67044381 0.67610954 0.65250236 0.67988669]\n",
      "average of 5-fold cross validation scores: 0.6679886685552407\n",
      "Accuracy for SVM on test_set: 0.6827195467422096\n",
      "              precision    recall  f1-score   support\n",
      "\n",
      "           0       0.78      0.80      0.79      1312\n",
      "           1       0.37      0.34      0.35       453\n",
      "\n",
      "    accuracy                           0.68      1765\n",
      "   macro avg       0.57      0.57      0.57      1765\n",
      "weighted avg       0.67      0.68      0.68      1765\n",
      "\n"
     ]
    },
    {
     "data": {
      "image/png": "[encoded data removed]",
      "text/plain": [
       "<Figure size 432x288 with 2 Axes>"
      ]
     },
     "metadata": {
      "needs_background": "light"
     },
     "output_type": "display_data"
    }
   ],
   "source": [
    "df = pd.read_csv(r'..\\data\\processed\\motivation_liwc_meta_pos_topic_n15.csv')\n",
    "# df.dropna(subset=['bsa_dummy', 'motivation'], inplace=True)\n",
    "df = df.fillna(method='ffill')\n",
    "svm_text_featureselection(df)"
   ]
  },
  {
   "cell_type": "markdown",
   "metadata": {},
   "source": [
    "# Initial numeric features"
   ]
  },
  {
   "cell_type": "code",
   "execution_count": 54,
   "metadata": {},
   "outputs": [],
   "source": [
    "import pandas as pd\n",
    "from sklearn.compose import ColumnTransformer\n",
    "from sklearn.preprocessing import PolynomialFeatures\n",
    "from sklearn.svm import SVC\n",
    "from sklearn.preprocessing import StandardScaler, OneHotEncoder\n",
    "from imblearn.over_sampling import SMOTE\n",
    "from sklearn.model_selection import train_test_split\n",
    "from imblearn.pipeline import Pipeline\n",
    "from sklearn.metrics import confusion_matrix\n",
    "from sklearn.metrics import classification_report\n",
    "import matplotlib.pyplot as plt\n",
    "from sklearn.linear_model  import LogisticRegression\n",
    "\n",
    "    \n",
    "def svm_initial_features(df):  \n",
    "    df = df.fillna(method='ffill')\n",
    "    categorical_features = ['cohort', 'field', 'prior_educ', 'previously_enrolled', 'multiple_requests', 'gender',\n",
    "                                'interest', 'ase', 'year', 'program']\n",
    "    numeric_features = ['age', 'HSGPA']\n",
    "    target = df['bsa_dummy']\n",
    "    df1 = df[categorical_features]\n",
    "    df2 = df[numeric_features]\n",
    "    df = pd.concat([df1, df2], axis=1)\n",
    "    df = pd.concat([df, target], axis=1)\n",
    "\n",
    "    # keep test_set apart\n",
    "    df_train, df_test = train_test_split(df, test_size=0.25, stratify=df['bsa_dummy'], shuffle=True,\n",
    "                                             random_state=0)\n",
    "\n",
    "    X_train = df_train.loc[:,df_train.columns !='bsa_dummy']\n",
    "    y_train = df_train['bsa_dummy']\n",
    "    X_test = df_test.loc[:,df_test.columns !='bsa_dummy']\n",
    "    y_test = df_test['bsa_dummy']\n",
    "    \n",
    "    numeric_transformer = Pipeline(steps=[('scaler', StandardScaler())])\n",
    "\n",
    "    categorical_transformer = Pipeline(steps=[\n",
    "        ('onehot', OneHotEncoder(handle_unknown='ignore'))])\n",
    "\n",
    "    preprocessor = ColumnTransformer(\n",
    "        transformers=[\n",
    "            ('num', numeric_transformer, numeric_features),\n",
    "            ('cat', categorical_transformer, categorical_features)])\n",
    "\n",
    " \n",
    "    pipe = make_pipeline(preprocessor,                         \n",
    "                         SVC(class_weight='balanced'))\n",
    "    \n",
    "    scores = cross_val_score(pipe, X_train, y_train, cv=5)\n",
    "\n",
    "    print('5-fold cross validation scores:', scores)\n",
    "    print('average of 5-fold cross validation scores:', scores.mean())\n",
    "\n",
    "    pipe.fit(X_train, y_train)\n",
    "    predictions = pipe.predict(X_test)\n",
    "    print(\"Accuracy for SVM on test_set: %s\" % accuracy_score(y_test, predictions))\n",
    "    cm = confusion_matrix(y_test, predictions)\n",
    "    print(classification_report(y_test, predictions))\n",
    "\n",
    "  \n",
    "    sns.heatmap(cm / np.sum(cm), annot=True, fmt='.2%', cmap='Blues')\n",
    "    plt.show()\n",
    "\n",
    "\n",
    "    \n",
    "    "
   ]
  },
  {
   "cell_type": "code",
   "execution_count": 55,
   "metadata": {},
   "outputs": [
    {
     "name": "stdout",
     "output_type": "stream",
     "text": [
      "5-fold cross validation scores: [0.64683664 0.61945231 0.63739377 0.63644948 0.64494806]\n",
      "average of 5-fold cross validation scores: 0.6370160528800756\n",
      "Accuracy for SVM on test_set: 0.6345609065155807\n",
      "              precision    recall  f1-score   support\n",
      "\n",
      "           0       0.84      0.63      0.72      1312\n",
      "           1       0.38      0.64      0.47       453\n",
      "\n",
      "    accuracy                           0.63      1765\n",
      "   macro avg       0.61      0.64      0.60      1765\n",
      "weighted avg       0.72      0.63      0.66      1765\n",
      "\n"
     ]
    },
    {
     "data": {
      "image/png": "[encoded data removed]",
      "text/plain": [
       "<Figure size 432x288 with 2 Axes>"
      ]
     },
     "metadata": {
      "needs_background": "light"
     },
     "output_type": "display_data"
    }
   ],
   "source": [
    "df = pd.read_csv(r'..\\data\\processed\\motivation_liwc_meta_pos_topic_n15.csv')\n",
    "\n",
    "svm_initial_features(df)"
   ]
  },
  {
   "cell_type": "markdown",
   "metadata": {},
   "source": [
    "# Added features + initial features- only numeric and categorical"
   ]
  },
  {
   "cell_type": "code",
   "execution_count": 58,
   "metadata": {},
   "outputs": [],
   "source": [
    "import pandas as pd\n",
    "from sklearn.compose import ColumnTransformer\n",
    "from sklearn.preprocessing import PolynomialFeatures\n",
    "from sklearn.svm import SVC\n",
    "from sklearn.preprocessing import StandardScaler, OneHotEncoder\n",
    "from imblearn.over_sampling import SMOTE\n",
    "from sklearn.model_selection import train_test_split\n",
    "from imblearn.pipeline import Pipeline\n",
    "from sklearn.metrics import confusion_matrix\n",
    "from sklearn.metrics import classification_report\n",
    "import matplotlib.pyplot as plt\n",
    "from sklearn.linear_model  import LogisticRegression\n",
    "\n",
    "    \n",
    "def svm_all_nontext_features(df):\n",
    "    df = df.fillna(method='ffill')\n",
    "    categorical_features = ['cohort', 'field', 'prior_educ', 'previously_enrolled', 'multiple_requests', 'gender',\n",
    "                                'interest', 'ase', 'year', 'program']\n",
    "    numeric_features = ['age', 'HSGPA', 'WC', 'WPS', 'Sixltr',\n",
    "                            'Dic', 'funct', 'pronoun', 'ppron', 'i',\n",
    "                            'we', 'you', 'shehe', 'they', 'ipron',\n",
    "                            'article', 'verb', 'auxverb', 'past', 'present',\n",
    "                            'future', 'adverb', 'preps', 'conj', 'negate',\n",
    "                            'quant', 'number', 'swear', 'social', 'family',\n",
    "                            'friend', 'humans', 'affect', 'posemo', 'negemo',\n",
    "                            'anx', 'anger', 'sad', 'cogmech', 'insight',\n",
    "                            'cause', 'discrep', 'tentat', 'certain', 'inhib',\n",
    "                            'incl', 'excl', 'percept', 'see', 'hear',\n",
    "                            'feel', 'bio', 'body', 'health', 'sexual',\n",
    "                            'ingest', 'relativ', 'motion', 'space', 'time',\n",
    "                            'work', 'achieve', 'leisure', 'home', 'money',\n",
    "                            'relig', 'death', 'assent', 'nonfl', 'filler',\n",
    "                            'pronadv', 'shehethey', 'AllPunc', 'Period', 'Comma',\n",
    "                            'Colon', 'SemiC', 'QMark', 'Exclam', 'Dash',\n",
    "                            'Quote', 'Apostro', 'Parenth', 'OtherP', 'count_punct',\n",
    "                            'count_stopwords', 'nr_token', 'nr_adj', 'nr_noun', 'nr_verb',\n",
    "                            'nr_number', 'topic1', 'topic2', 'topic3', 'topic4',\n",
    "                            'topic5', 'topic6', 'topic7', 'topic8', 'topic9',\n",
    "                            'topic10', 'topic11', 'topic12', 'topic13', 'topic14',\n",
    "                            'topic15']\n",
    "\n",
    "    # Change object (string) type of features to float\n",
    "    change_type = ['WPS', 'Sixltr',\n",
    "                       'Dic', 'funct', 'pronoun', 'ppron', 'i',\n",
    "                       'we', 'you', 'shehe', 'they', 'ipron',\n",
    "                       'article', 'verb', 'auxverb', 'past', 'present',\n",
    "                       'future', 'adverb', 'preps', 'conj', 'negate',\n",
    "                       'quant', 'number', 'swear', 'social', 'family',\n",
    "                       'friend', 'humans', 'affect', 'posemo', 'negemo',\n",
    "                       'anx', 'anger', 'sad', 'cogmech', 'insight',\n",
    "                       'cause', 'discrep', 'tentat', 'certain', 'inhib',\n",
    "                       'incl', 'excl', 'percept', 'see', 'hear',\n",
    "                       'feel', 'bio', 'body', 'health', 'sexual',\n",
    "                       'ingest', 'relativ', 'motion', 'space', 'time',\n",
    "                       'work', 'achieve', 'leisure', 'home', 'money',\n",
    "                       'relig', 'death', 'assent', 'nonfl', 'filler',\n",
    "                       'pronadv', 'shehethey', 'AllPunc', 'Period', 'Comma',\n",
    "                       'Colon', 'SemiC', 'QMark', 'Exclam', 'Dash',\n",
    "                       'Quote', 'Apostro', 'Parenth', 'OtherP']\n",
    "    df[change_type] = df[change_type].apply(lambda x: x.str.replace(',', '.'))\n",
    "    df[change_type] = df[change_type].astype(float).fillna(0.0)\n",
    "\n",
    "    target = df['bsa_dummy']\n",
    "\n",
    "    df1 = df[categorical_features]\n",
    "    df2 = df[numeric_features]\n",
    "    df = pd.concat([df1, df2], axis=1)\n",
    "    df = pd.concat([df, target], axis=1)\n",
    "\n",
    "    # keep test_set apart\n",
    "    df_train, df_test = train_test_split(df, test_size=0.25, stratify=df['bsa_dummy'], shuffle=True,\n",
    "                                             random_state=0)\n",
    "\n",
    "    X_train = df_train.loc[:,df_train.columns !='bsa_dummy']\n",
    "    y_train = df_train['bsa_dummy']\n",
    "    X_test = df_test.loc[:,df_test.columns !='bsa_dummy']\n",
    "    y_test = df_test['bsa_dummy']\n",
    "    \n",
    "    numeric_transformer = Pipeline(steps=[('scaler', StandardScaler())])\n",
    "\n",
    "    categorical_transformer = Pipeline(steps=[\n",
    "        ('onehot', OneHotEncoder(handle_unknown='ignore'))])\n",
    "\n",
    "    preprocessor = ColumnTransformer(\n",
    "        transformers=[\n",
    "            ('num', numeric_transformer, numeric_features),\n",
    "            ('cat', categorical_transformer, categorical_features)])\n",
    "\n",
    " \n",
    "    pipe = make_pipeline(preprocessor,                         \n",
    "                         SVC(class_weight='balanced'))\n",
    "    \n",
    "    scores = cross_val_score(pipe, X_train, y_train, cv=5)\n",
    "\n",
    "    print('5-fold cross validation scores:', scores)\n",
    "    print('average of 5-fold cross validation scores:', scores.mean())\n",
    "\n",
    "    pipe.fit(X_train, y_train)\n",
    "    predictions = pipe.predict(X_test)\n",
    "    print(\"Accuracy for SVM on test_set: %s\" % accuracy_score(y_test, predictions))\n",
    "    cm = confusion_matrix(y_test, predictions)\n",
    "    print(classification_report(y_test, predictions))\n",
    "\n",
    "  \n",
    "    sns.heatmap(cm / np.sum(cm), annot=True, fmt='.2%', cmap='Blues')\n",
    "    plt.show()\n",
    "\n"
   ]
  },
  {
   "cell_type": "code",
   "execution_count": 59,
   "metadata": {},
   "outputs": [
    {
     "name": "stdout",
     "output_type": "stream",
     "text": [
      "5-fold cross validation scores: [0.65061379 0.64872521 0.66666667 0.64305949 0.66288952]\n",
      "average of 5-fold cross validation scores: 0.6543909348441926\n",
      "Accuracy for SVM on test_set: 0.6577903682719547\n",
      "              precision    recall  f1-score   support\n",
      "\n",
      "           0       0.80      0.71      0.76      1312\n",
      "           1       0.37      0.49      0.43       453\n",
      "\n",
      "    accuracy                           0.66      1765\n",
      "   macro avg       0.59      0.60      0.59      1765\n",
      "weighted avg       0.69      0.66      0.67      1765\n",
      "\n"
     ]
    },
    {
     "data": {
      "image/png": "[encoded data removed]",
      "text/plain": [
       "<Figure size 432x288 with 2 Axes>"
      ]
     },
     "metadata": {
      "needs_background": "light"
     },
     "output_type": "display_data"
    }
   ],
   "source": [
    "df = pd.read_csv(r'..\\data\\processed\\motivation_liwc_meta_pos_topic_n15.csv')\n",
    "\n",
    "svm_all_nontext_features(df)"
   ]
  },
  {
   "cell_type": "markdown",
   "metadata": {},
   "source": [
    "# Text + Initial non-textual features"
   ]
  },
  {
   "cell_type": "code",
   "execution_count": 99,
   "metadata": {},
   "outputs": [],
   "source": [
    "import pandas as pd\n",
    "from sklearn.compose import ColumnTransformer\n",
    "from sklearn.preprocessing import PolynomialFeatures\n",
    "from sklearn.svm import SVC\n",
    "from sklearn.preprocessing import StandardScaler, OneHotEncoder\n",
    "from imblearn.over_sampling import SMOTE\n",
    "from sklearn.model_selection import train_test_split\n",
    "from imblearn.pipeline import Pipeline\n",
    "from sklearn.metrics import confusion_matrix\n",
    "from sklearn.metrics import classification_report\n",
    "import matplotlib.pyplot as plt\n",
    "from sklearn.linear_model  import LogisticRegression\n",
    "from sklearn.preprocessing import FunctionTransformer\n",
    "from sklearn.pipeline import Pipeline, FeatureUnion\n",
    "from sklearn import preprocessing\n",
    "from sklearn.feature_extraction.text import CountVectorizer\n",
    "\n",
    "    \n",
    "def svm_text_initial_features(df):\n",
    "    stopword_list = list(stopwords.words('Dutch'))\n",
    "\n",
    "    df = df.fillna(method='ffill')\n",
    "    categorical_features = ['cohort', 'field', 'prior_educ', 'previously_enrolled', 'multiple_requests', 'gender',\n",
    "                                'interest', 'ase', 'year', 'program']\n",
    "    numeric_features = ['age', 'HSGPA']\n",
    "    text_features = ['motivation']\n",
    "    \n",
    "    target = df['bsa_dummy']\n",
    "    \n",
    "    get_text_data = FunctionTransformer(lambda x: x['motivation'], validate=False)\n",
    "    get_numeric_data = FunctionTransformer(lambda x: x[numeric_features], validate=False)\n",
    "    get_categorical_data = FunctionTransformer(lambda x: x[categorical_features], validate=False)\n",
    "\n",
    "    process_and_join_features = Pipeline([\n",
    "        ('features', FeatureUnion([\n",
    "            ('numeric_features', Pipeline([\n",
    "                ('selector', get_numeric_data),\n",
    "                ('scaler', preprocessing.StandardScaler())\n",
    "\n",
    "            ])),\n",
    "            ('text_features', Pipeline([\n",
    "                ('selector', get_text_data),\n",
    "                ('vec', TfidfVectorizer(lowercase=True, stop_words=stopword_list))\n",
    "            ]))\n",
    "        ])),\n",
    "\n",
    "\n",
    "        ('clf', SVC(class_weight='balanced'))\n",
    "    ])\n",
    "    \n",
    "  \n",
    "    \n",
    "    df = df.dropna()\n",
    "    text = df['motivation']\n",
    "    num = df[numeric_features]\n",
    "    df_features =pd.concat([text,num], axis=1)\n",
    "    \n",
    "    X_train, X_val, y_train, y_val = train_test_split(df_features, df['bsa_dummy'], stratify=df['bsa_dummy'], test_size=0.25, random_state=0)\n",
    "    \n",
    " \n",
    "    process_and_join_features.fit(X_train, y_train)\n",
    "#     predictions_lt = process_and_join_features.predict(X_val)\n",
    "    \n",
    "    scores = cross_val_score(process_and_join_features, X_train, y_train, cv=5)\n",
    "\n",
    "    print('5-fold cross validation scores:', scores)\n",
    "    print('average of 5-fold cross validation scores:', scores.mean())\n",
    "\n",
    "    process_and_join_features.fit(X_train, y_train)\n",
    "    predictions = process_and_join_features.predict(X_val)\n",
    "    print(\"Accuracy for SVM on test_set: %s\" % accuracy_score(y_val, predictions))\n",
    "    cm = confusion_matrix(y_val, predictions)\n",
    "    print(classification_report(y_val, predictions))\n",
    "\n",
    "  \n",
    "    sns.heatmap(cm / np.sum(cm), annot=True, fmt='.2%', cmap='Blues')\n",
    "    plt.show()\n",
    "\n",
    "\n",
    "    \n",
    "    \n"
   ]
  },
  {
   "cell_type": "code",
   "execution_count": 100,
   "metadata": {},
   "outputs": [
    {
     "name": "stdout",
     "output_type": "stream",
     "text": [
      "5-fold cross validation scores: [0.63078376 0.62983947 0.65061379 0.66100094 0.62983947]\n",
      "average of 5-fold cross validation scores: 0.6404154863078375\n",
      "Accuracy for SVM on test_set: 0.6317280453257791\n",
      "              precision    recall  f1-score   support\n",
      "\n",
      "           0       0.82      0.64      0.72      1312\n",
      "           1       0.37      0.60      0.45       453\n",
      "\n",
      "    accuracy                           0.63      1765\n",
      "   macro avg       0.59      0.62      0.59      1765\n",
      "weighted avg       0.71      0.63      0.65      1765\n",
      "\n"
     ]
    },
    {
     "data": {
      "image/png": "[encoded data removed]",
      "text/plain": [
       "<Figure size 432x288 with 2 Axes>"
      ]
     },
     "metadata": {
      "needs_background": "light"
     },
     "output_type": "display_data"
    }
   ],
   "source": [
    "df = pd.read_csv(r'..\\data\\processed\\motivation_liwc_meta_pos_topic_n15.csv')\n",
    "\n",
    "\n",
    "svm_text_initial_features(df)"
   ]
  },
  {
   "cell_type": "code",
   "execution_count": 109,
   "metadata": {},
   "outputs": [],
   "source": [
    "def svm_text_initial_features2(df):\n",
    "    stopword_list = list(stopwords.words('Dutch'))\n",
    "\n",
    "    df = df.fillna(method='ffill')\n",
    "    categorical_features = ['cohort', 'field', 'prior_educ', 'previously_enrolled', 'multiple_requests', 'gender',\n",
    "                                'interest', 'ase', 'year', 'program']\n",
    "    numeric_features = ['age', 'HSGPA']\n",
    "    text_features = ['motivation']\n",
    "    \n",
    "    target = df['bsa_dummy']\n",
    "    \n",
    "    get_text_data = FunctionTransformer(lambda x: x['motivation'], validate=False)\n",
    "    get_numeric_data = FunctionTransformer(lambda x: x[numeric_features], validate=False)\n",
    "    get_categorical_data = FunctionTransformer(lambda x: x[categorical_features], validate=False)\n",
    "\n",
    "    process_and_join_features = Pipeline([\n",
    "        ('features', FeatureUnion([\n",
    "            ('categorical_features', Pipeline([\n",
    "                ('selector', get_categorical_data),\n",
    "                ('onehot', OneHotEncoder(handle_unknown='ignore'))\n",
    "\n",
    "            ])),\n",
    "            ('text_features', Pipeline([\n",
    "                ('selector', get_text_data),\n",
    "                ('vec', TfidfVectorizer(lowercase=True, stop_words=stopword_list))\n",
    "            ]))\n",
    "        ])),\n",
    "\n",
    "\n",
    "        ('clf', SVC(class_weight='balanced'))\n",
    "    ])\n",
    "    \n",
    "  \n",
    "    \n",
    "    df = df.dropna()\n",
    "    text = df['motivation']\n",
    "#     num = df[numeric_features]\n",
    "    cat = df[categorical_features]\n",
    "#     df_features =pd.concat([text,num], axis=1)\n",
    "    df_features =pd.concat([text,cat], axis=1)\n",
    "\n",
    "    \n",
    "    X_train, X_val, y_train, y_val = train_test_split(df_features, df['bsa_dummy'], stratify=df['bsa_dummy'], test_size=0.25, random_state=0)\n",
    "    \n",
    " \n",
    "    process_and_join_features.fit(X_train, y_train)\n",
    "#     predictions_lt = process_and_join_features.predict(X_val)\n",
    "    \n",
    "    scores = cross_val_score(process_and_join_features, X_train, y_train, cv=5)\n",
    "\n",
    "    print('5-fold cross validation scores:', scores)\n",
    "    print('average of 5-fold cross validation scores:', scores.mean())\n",
    "\n",
    "    process_and_join_features.fit(X_train, y_train)\n",
    "    predictions = process_and_join_features.predict(X_val)\n",
    "    print(\"Accuracy for SVM on test_set: %s\" % accuracy_score(y_val, predictions))\n",
    "    cm = confusion_matrix(y_val, predictions)\n",
    "    print(classification_report(y_val, predictions))\n",
    "\n",
    "  \n",
    "    sns.heatmap(cm / np.sum(cm), annot=True, fmt='.2%', cmap='Blues')\n",
    "    plt.show()\n"
   ]
  },
  {
   "cell_type": "code",
   "execution_count": 110,
   "metadata": {},
   "outputs": [
    {
     "name": "stdout",
     "output_type": "stream",
     "text": [
      "5-fold cross validation scores: [0.63456091 0.6279509  0.63172805 0.64683664 0.63833805]\n",
      "average of 5-fold cross validation scores: 0.6358829084041548\n",
      "Accuracy for SVM on test_set: 0.6379603399433428\n",
      "              precision    recall  f1-score   support\n",
      "\n",
      "           0       0.81      0.66      0.73      1312\n",
      "           1       0.37      0.56      0.44       453\n",
      "\n",
      "    accuracy                           0.64      1765\n",
      "   macro avg       0.59      0.61      0.59      1765\n",
      "weighted avg       0.70      0.64      0.66      1765\n",
      "\n"
     ]
    },
    {
     "data": {
      "image/png": "[encoded data removed]",
      "text/plain": [
       "<Figure size 432x288 with 2 Axes>"
      ]
     },
     "metadata": {
      "needs_background": "light"
     },
     "output_type": "display_data"
    }
   ],
   "source": [
    "df = pd.read_csv(r'..\\data\\processed\\motivation_liwc_meta_pos_topic_n15.csv')\n",
    "\n",
    "\n",
    "svm_text_initial_features2(df)"
   ]
  },
  {
   "cell_type": "code",
   "execution_count": 111,
   "metadata": {},
   "outputs": [],
   "source": [
    "def svm_text_initial_features3(df):\n",
    "    stopword_list = list(stopwords.words('Dutch'))\n",
    "\n",
    "    df = df.fillna(method='ffill')\n",
    "    categorical_features = ['cohort', 'field', 'prior_educ', 'previously_enrolled', 'multiple_requests', 'gender',\n",
    "                                'interest', 'ase', 'year', 'program']\n",
    "    numeric_features = ['age', 'HSGPA']\n",
    "    text_features = ['motivation']\n",
    "    \n",
    "    target = df['bsa_dummy']\n",
    "    \n",
    "    get_text_data = FunctionTransformer(lambda x: x['motivation'], validate=False)\n",
    "    get_numeric_data = FunctionTransformer(lambda x: x[numeric_features], validate=False)\n",
    "    get_categorical_data = FunctionTransformer(lambda x: x[categorical_features], validate=False)\n",
    "\n",
    "    process_and_join_features = Pipeline([\n",
    "        ('features', FeatureUnion([\n",
    "            ('numeric_features', Pipeline([\n",
    "                ('selector', get_numeric_data),\n",
    "                ('scaler', preprocessing.StandardScaler())\n",
    "\n",
    "            ])),\n",
    "            ('categorical_features', Pipeline([\n",
    "                ('selector', get_categorical_data),\n",
    "                ('onehot', OneHotEncoder(handle_unknown='ignore'))\n",
    "\n",
    "            ])),\n",
    "            ('text_features', Pipeline([\n",
    "                ('selector', get_text_data),\n",
    "                ('vec', TfidfVectorizer(lowercase=True, stop_words=stopword_list))\n",
    "            ]))\n",
    "        ])),\n",
    "\n",
    "\n",
    "        ('clf', SVC(class_weight='balanced'))\n",
    "    ])\n",
    "    \n",
    "  \n",
    "    \n",
    "    df = df.dropna()\n",
    "    text = df['motivation']\n",
    "    num = df[numeric_features]\n",
    "    cat = df[categorical_features]\n",
    "    df_features =pd.concat([text,num], axis=1)\n",
    "    df_features =pd.concat([df_features,cat], axis=1)\n",
    "\n",
    "    \n",
    "    X_train, X_val, y_train, y_val = train_test_split(df_features, df['bsa_dummy'], stratify=df['bsa_dummy'], test_size=0.25, random_state=0)\n",
    "    \n",
    " \n",
    "    process_and_join_features.fit(X_train, y_train)\n",
    "#     predictions_lt = process_and_join_features.predict(X_val)\n",
    "    \n",
    "    scores = cross_val_score(process_and_join_features, X_train, y_train, cv=5)\n",
    "\n",
    "    print('5-fold cross validation scores:', scores)\n",
    "    print('average of 5-fold cross validation scores:', scores.mean())\n",
    "\n",
    "    process_and_join_features.fit(X_train, y_train)\n",
    "    predictions = process_and_join_features.predict(X_val)\n",
    "    print(\"Accuracy for SVM on test_set: %s\" % accuracy_score(y_val, predictions))\n",
    "    cm = confusion_matrix(y_val, predictions)\n",
    "    print(classification_report(y_val, predictions))\n",
    "\n",
    "  \n",
    "    sns.heatmap(cm / np.sum(cm), annot=True, fmt='.2%', cmap='Blues')\n",
    "    plt.show()\n"
   ]
  },
  {
   "cell_type": "code",
   "execution_count": 112,
   "metadata": {},
   "outputs": [
    {
     "name": "stdout",
     "output_type": "stream",
     "text": [
      "5-fold cross validation scores: [0.65439093 0.62983947 0.64778093 0.65439093 0.65627951]\n",
      "average of 5-fold cross validation scores: 0.6485363550519357\n",
      "Accuracy for SVM on test_set: 0.6532577903682719\n",
      "              precision    recall  f1-score   support\n",
      "\n",
      "           0       0.84      0.66      0.74      1312\n",
      "           1       0.39      0.64      0.49       453\n",
      "\n",
      "    accuracy                           0.65      1765\n",
      "   macro avg       0.62      0.65      0.61      1765\n",
      "weighted avg       0.73      0.65      0.67      1765\n",
      "\n"
     ]
    },
    {
     "data": {
      "image/png": "[encoded data removed]",
      "text/plain": [
       "<Figure size 432x288 with 2 Axes>"
      ]
     },
     "metadata": {
      "needs_background": "light"
     },
     "output_type": "display_data"
    }
   ],
   "source": [
    "df = pd.read_csv(r'..\\data\\processed\\motivation_liwc_meta_pos_topic_n15.csv')\n",
    "\n",
    "\n",
    "svm_text_initial_features3(df)"
   ]
  },
  {
   "cell_type": "markdown",
   "metadata": {},
   "source": [
    "# Text + all numeric and categorical features"
   ]
  },
  {
   "cell_type": "code",
   "execution_count": 119,
   "metadata": {},
   "outputs": [],
   "source": [
    "def svm_all_features(df):\n",
    "    stopword_list = list(stopwords.words('Dutch'))\n",
    "\n",
    "    df = df.fillna(method='ffill')\n",
    "    categorical_features = ['cohort', 'field', 'prior_educ', 'previously_enrolled', 'multiple_requests', 'gender',\n",
    "                                'interest', 'ase', 'year', 'program']\n",
    "    numeric_features = ['age', 'HSGPA', 'WC', 'WPS', 'Sixltr',\n",
    "                        'Dic', 'funct', 'pronoun', 'ppron', 'i',\n",
    "                        'we', 'you', 'shehe', 'they', 'ipron',\n",
    "                        'article', 'verb', 'auxverb', 'past', 'present',\n",
    "                        'future', 'adverb', 'preps', 'conj', 'negate',\n",
    "                        'quant', 'number', 'swear', 'social', 'family',\n",
    "                        'friend', 'humans', 'affect', 'posemo', 'negemo',\n",
    "                        'anx', 'anger', 'sad', 'cogmech', 'insight',\n",
    "                        'cause', 'discrep', 'tentat', 'certain', 'inhib',\n",
    "                        'incl', 'excl', 'percept', 'see', 'hear',\n",
    "                        'feel', 'bio', 'body', 'health', 'sexual',\n",
    "                        'ingest', 'relativ', 'motion', 'space', 'time',\n",
    "                        'work', 'achieve', 'leisure', 'home', 'money',\n",
    "                        'relig', 'death', 'assent', 'nonfl', 'filler',\n",
    "                        'pronadv', 'shehethey', 'AllPunc', 'Period', 'Comma',\n",
    "                        'Colon', 'SemiC', 'QMark', 'Exclam', 'Dash',\n",
    "                        'Quote', 'Apostro', 'Parenth', 'OtherP', 'count_punct',\n",
    "                        'count_stopwords', 'nr_token', 'nr_adj', 'nr_noun', 'nr_verb',\n",
    "                        'nr_number', 'topic1', 'topic2', 'topic3', 'topic4',\n",
    "                        'topic5', 'topic6', 'topic7', 'topic8', 'topic9',\n",
    "                        'topic10', 'topic11', 'topic12', 'topic13', 'topic14',\n",
    "                        'topic15']\n",
    "    text_features = ['motivation']\n",
    "    \n",
    "    target = df['bsa_dummy']\n",
    "    \n",
    "    get_text_data = FunctionTransformer(lambda x: x['motivation'], validate=False)\n",
    "    get_numeric_data = FunctionTransformer(lambda x: x[numeric_features], validate=False)\n",
    "    get_categorical_data = FunctionTransformer(lambda x: x[categorical_features], validate=False)\n",
    "\n",
    "    process_and_join_features = Pipeline([\n",
    "        ('features', FeatureUnion([\n",
    "            ('numeric_features', Pipeline([\n",
    "                ('selector', get_numeric_data),\n",
    "                ('scaler', preprocessing.StandardScaler())\n",
    "\n",
    "            ])),\n",
    "            ('categorical_features', Pipeline([\n",
    "                ('selector', get_categorical_data),\n",
    "                ('onehot', OneHotEncoder(handle_unknown='ignore'))\n",
    "\n",
    "            ])),\n",
    "            ('text_features', Pipeline([\n",
    "                ('selector', get_text_data),\n",
    "                ('vec', TfidfVectorizer(lowercase=True, stop_words=stopword_list)),\n",
    "                ('feature_selection', SelectFromModel(LinearSVC(penalty=\"l1\", dual=False)))\n",
    "            ]))\n",
    "        ])),\n",
    "\n",
    "\n",
    "        ('clf', SVC(class_weight='balanced'))\n",
    "    ])\n",
    "    \n",
    "  \n",
    "    \n",
    "    df = df.dropna()\n",
    "    text = df['motivation']\n",
    "    num = df[numeric_features]\n",
    "    cat = df[categorical_features]\n",
    "    df_features =pd.concat([text,num], axis=1)\n",
    "    df_features =pd.concat([df_features,cat], axis=1)\n",
    "\n",
    "    \n",
    "    X_train, X_val, y_train, y_val = train_test_split(df_features, df['bsa_dummy'], stratify=df['bsa_dummy'], test_size=0.25, random_state=0)\n",
    "    \n",
    " \n",
    "    process_and_join_features.fit(X_train, y_train)\n",
    "#     predictions_lt = process_and_join_features.predict(X_val)\n",
    "    \n",
    "    scores = cross_val_score(process_and_join_features, X_train, y_train, cv=5)\n",
    "\n",
    "    print('5-fold cross validation scores:', scores)\n",
    "    print('average of 5-fold cross validation scores:', scores.mean())\n",
    "\n",
    "    process_and_join_features.fit(X_train, y_train)\n",
    "    predictions = process_and_join_features.predict(X_val)\n",
    "    print(\"Accuracy for SVM on test_set: %s\" % accuracy_score(y_val, predictions))\n",
    "    cm = confusion_matrix(y_val, predictions)\n",
    "    print(classification_report(y_val, predictions))\n",
    "\n",
    "  \n",
    "    sns.heatmap(cm / np.sum(cm), annot=True, fmt='.2%', cmap='Blues')\n",
    "    plt.show()\n"
   ]
  },
  {
   "cell_type": "code",
   "execution_count": 120,
   "metadata": {},
   "outputs": [
    {
     "name": "stdout",
     "output_type": "stream",
     "text": [
      "5-fold cross validation scores: [0.64400378 0.61189802 0.64872521 0.64589235 0.64589235]\n",
      "average of 5-fold cross validation scores: 0.6392823418319169\n",
      "Accuracy for SVM on test_set: 0.6453257790368272\n",
      "              precision    recall  f1-score   support\n",
      "\n",
      "           0       0.82      0.67      0.74      1312\n",
      "           1       0.38      0.59      0.46       453\n",
      "\n",
      "    accuracy                           0.65      1765\n",
      "   macro avg       0.60      0.63      0.60      1765\n",
      "weighted avg       0.71      0.65      0.67      1765\n",
      "\n"
     ]
    },
    {
     "data": {
      "image/png": "[encoded data removed]",
      "text/plain": [
       "<Figure size 432x288 with 2 Axes>"
      ]
     },
     "metadata": {
      "needs_background": "light"
     },
     "output_type": "display_data"
    }
   ],
   "source": [
    "df = pd.read_csv(r'..\\data\\processed\\motivation_liwc_meta_pos_topic_n15.csv')\n",
    "change_type = ['WPS', 'Sixltr',\n",
    "                   'Dic', 'funct', 'pronoun', 'ppron', 'i',\n",
    "                   'we', 'you', 'shehe', 'they', 'ipron',\n",
    "                   'article', 'verb', 'auxverb', 'past', 'present',\n",
    "                   'future', 'adverb', 'preps', 'conj', 'negate',\n",
    "                   'quant', 'number', 'swear', 'social', 'family',\n",
    "                   'friend', 'humans', 'affect', 'posemo', 'negemo',\n",
    "                   'anx', 'anger', 'sad', 'cogmech', 'insight',\n",
    "                   'cause', 'discrep', 'tentat', 'certain', 'inhib',\n",
    "                   'incl', 'excl', 'percept', 'see', 'hear',\n",
    "                   'feel', 'bio', 'body', 'health', 'sexual',\n",
    "                   'ingest', 'relativ', 'motion', 'space', 'time',\n",
    "                   'work', 'achieve', 'leisure', 'home', 'money',\n",
    "                   'relig', 'death', 'assent', 'nonfl', 'filler',\n",
    "                   'pronadv', 'shehethey', 'AllPunc', 'Period', 'Comma',\n",
    "                   'Colon', 'SemiC', 'QMark', 'Exclam', 'Dash',\n",
    "                   'Quote', 'Apostro', 'Parenth', 'OtherP']\n",
    "df[change_type] = df[change_type].apply(lambda x: x.str.replace(',', '.'))\n",
    "df[change_type] = df[change_type].astype(float).fillna(0.0)\n",
    "svm_all_features(df)"
   ]
  },
  {
   "cell_type": "markdown",
   "metadata": {},
   "source": [
    "# Text + all features excluding LIWC"
   ]
  },
  {
   "cell_type": "code",
   "execution_count": 121,
   "metadata": {},
   "outputs": [],
   "source": [
    "def svm_without_liwc_features(df):\n",
    "    stopword_list = list(stopwords.words('Dutch'))\n",
    "\n",
    "    df = df.fillna(method='ffill')\n",
    "    categorical_features = ['cohort', 'field', 'prior_educ', 'previously_enrolled', 'multiple_requests', 'gender',\n",
    "                                'interest', 'ase', 'year', 'program']\n",
    "    numeric_features = ['age', 'HSGPA', 'nr_token', 'nr_adj', 'nr_noun', 'nr_verb',\n",
    "                        'nr_number', 'topic1', 'topic2', 'topic3', 'topic4',\n",
    "                        'topic5', 'topic6', 'topic7', 'topic8', 'topic9',\n",
    "                        'topic10', 'topic11', 'topic12', 'topic13', 'topic14',\n",
    "                        'topic15']\n",
    "    text_features = ['motivation']\n",
    "    \n",
    "    target = df['bsa_dummy']\n",
    "    \n",
    "    get_text_data = FunctionTransformer(lambda x: x['motivation'], validate=False)\n",
    "    get_numeric_data = FunctionTransformer(lambda x: x[numeric_features], validate=False)\n",
    "    get_categorical_data = FunctionTransformer(lambda x: x[categorical_features], validate=False)\n",
    "\n",
    "    process_and_join_features = Pipeline([\n",
    "        ('features', FeatureUnion([\n",
    "            ('numeric_features', Pipeline([\n",
    "                ('selector', get_numeric_data),\n",
    "                ('scaler', preprocessing.StandardScaler())\n",
    "\n",
    "            ])),\n",
    "            ('categorical_features', Pipeline([\n",
    "                ('selector', get_categorical_data),\n",
    "                ('onehot', OneHotEncoder(handle_unknown='ignore'))\n",
    "\n",
    "            ])),\n",
    "            ('text_features', Pipeline([\n",
    "                ('selector', get_text_data),\n",
    "                ('vec', TfidfVectorizer(lowercase=True, stop_words=stopword_list)),\n",
    "                ('feature_selection', SelectFromModel(LinearSVC(penalty=\"l1\", dual=False)))\n",
    "            ]))\n",
    "        ])),\n",
    "\n",
    "\n",
    "        ('clf', SVC(class_weight='balanced'))\n",
    "    ])\n",
    "    \n",
    "  \n",
    "    \n",
    "    df = df.dropna()\n",
    "    text = df['motivation']\n",
    "    num = df[numeric_features]\n",
    "    cat = df[categorical_features]\n",
    "    df_features =pd.concat([text,num], axis=1)\n",
    "    df_features =pd.concat([df_features,cat], axis=1)\n",
    "\n",
    "    \n",
    "    X_train, X_val, y_train, y_val = train_test_split(df_features, df['bsa_dummy'], stratify=df['bsa_dummy'], test_size=0.25, random_state=0)\n",
    "    \n",
    " \n",
    "    process_and_join_features.fit(X_train, y_train)\n",
    "#     predictions_lt = process_and_join_features.predict(X_val)\n",
    "    \n",
    "    scores = cross_val_score(process_and_join_features, X_train, y_train, cv=5)\n",
    "\n",
    "    print('5-fold cross validation scores:', scores)\n",
    "    print('average of 5-fold cross validation scores:', scores.mean())\n",
    "\n",
    "    process_and_join_features.fit(X_train, y_train)\n",
    "    predictions = process_and_join_features.predict(X_val)\n",
    "    print(\"Accuracy for SVM on test_set: %s\" % accuracy_score(y_val, predictions))\n",
    "    cm = confusion_matrix(y_val, predictions)\n",
    "    print(classification_report(y_val, predictions))\n",
    "\n",
    "  \n",
    "    sns.heatmap(cm / np.sum(cm), annot=True, fmt='.2%', cmap='Blues')\n",
    "    plt.show()\n"
   ]
  },
  {
   "cell_type": "code",
   "execution_count": 122,
   "metadata": {},
   "outputs": [
    {
     "name": "stdout",
     "output_type": "stream",
     "text": [
      "5-fold cross validation scores: [0.64400378 0.61189802 0.64872521 0.64589235 0.64589235]\n",
      "average of 5-fold cross validation scores: 0.6392823418319169\n",
      "Accuracy for SVM on test_set: 0.6453257790368272\n",
      "              precision    recall  f1-score   support\n",
      "\n",
      "           0       0.82      0.67      0.74      1312\n",
      "           1       0.38      0.59      0.46       453\n",
      "\n",
      "    accuracy                           0.65      1765\n",
      "   macro avg       0.60      0.63      0.60      1765\n",
      "weighted avg       0.71      0.65      0.67      1765\n",
      "\n"
     ]
    },
    {
     "data": {
      "image/png": "[encoded data removed]",
      "text/plain": [
       "<Figure size 432x288 with 2 Axes>"
      ]
     },
     "metadata": {
      "needs_background": "light"
     },
     "output_type": "display_data"
    }
   ],
   "source": [
    "df = pd.read_csv(r'..\\data\\processed\\motivation_liwc_meta_pos_topic_n15.csv')\n",
    "\n",
    "svm_all_without_liwc_features(df)"
   ]
  },
  {
   "cell_type": "code",
   "execution_count": null,
   "metadata": {},
   "outputs": [],
   "source": []
  }
 ],
 "metadata": {
  "hide_input": false,
  "kernelspec": {
   "display_name": "Python 3",
   "language": "python",
   "name": "python3"
  },
  "language_info": {
   "codemirror_mode": {
    "name": "ipython",
    "version": 3
   },
   "file_extension": ".py",
   "mimetype": "text/x-python",
   "name": "python",
   "nbconvert_exporter": "python",
   "pygments_lexer": "ipython3",
   "version": "3.7.3"
  }
 },
 "nbformat": 4,
 "nbformat_minor": 2
}
