{
 "cells": [
  {
   "cell_type": "code",
   "execution_count": 1,
   "metadata": {},
   "outputs": [],
   "source": [
    "import pandas as pd"
   ]
  },
  {
   "cell_type": "code",
   "execution_count": 13,
   "metadata": {},
   "outputs": [],
   "source": [
    "df_2014 = pd.read_excel(r'U:\\data_karlijn\\new-version\\2014_predictors_motivation_study success.xlsx')\n",
    "df_2015 = pd.read_excel(r'U:\\data_karlijn\\new-version\\2015_predictors_motivation_study success.xlsx')"
   ]
  },
  {
   "cell_type": "code",
   "execution_count": 14,
   "metadata": {},
   "outputs": [
    {
     "name": "stdout",
     "output_type": "stream",
     "text": [
      "Correlation btween 'reenrolled' and 'bsa_dummy' is:  0.8170146806685833\n"
     ]
    }
   ],
   "source": [
    "#There're two target variables 'reenrolled', 'bsa_dummy'\n",
    "# Find correlaton between target variables on concatenated dataset(df_2014 and df_2015)\n",
    "\n",
    "# Concatenate datasets\n",
    "df = pd.concat([df_2014, df_2015])\n",
    "\n",
    "# Calculate correlation btween 'reenrolled' and 'bsa_dummy'\n",
    "correlation = df[\"reenrolled\"].corr(df[\"bsa_dummy\"])\n",
    "print(\"Correlation btween 'reenrolled' and 'bsa_dummy' is: \", correlation)"
   ]
  },
  {
   "cell_type": "code",
   "execution_count": 15,
   "metadata": {},
   "outputs": [],
   "source": [
    "# Exp1: Combine motivation records in 2014 and 2015, split train and test, and predict test results\n",
    "\n"
   ]
  },
  {
   "cell_type": "code",
   "execution_count": 20,
   "metadata": {},
   "outputs": [],
   "source": [
    "### b. Exp2: Text feature engineering + additional independent variables (field, prior_educ, previously_enrolled, multiple_requests, age, gender, HSGPA, interest, ase)\n",
    "#### Exploratory data analysis and feature engineering\n"
   ]
  },
  {
   "cell_type": "code",
   "execution_count": 26,
   "metadata": {},
   "outputs": [],
   "source": [
    "# 1. Plots for non-text variables, including boxplot, scatterplot, correlations, feature ranking\n",
    "\n",
    "\n",
    "# drop null values\n",
    "df.dropna(subset=['reenrolled','bsa_dummy','motivation'], inplace=True)\n",
    "\n",
    "# swap 0 and 1s\n",
    "df_2014['bsa_dummy'] = df_2014['bsa_dummy'].replace({0:1, 1:0})\n",
    "df_2015['bsa_dummy'] = df_2015['bsa_dummy'].replace({0:1, 1:0})"
   ]
  },
  {
   "cell_type": "code",
   "execution_count": 27,
   "metadata": {},
   "outputs": [
    {
     "data": {
      "text/plain": [
       "<matplotlib.axes._subplots.AxesSubplot at 0x14a4b8afb38>"
      ]
     },
     "execution_count": 27,
     "metadata": {},
     "output_type": "execute_result"
    },
    {
     "data": {
      "image/png": "[encoded data removed]",
      "text/plain": [
       "<Figure size 432x288 with 1 Axes>"
      ]
     },
     "metadata": {
      "needs_background": "light"
     },
     "output_type": "display_data"
    }
   ],
   "source": [
    "df.boxplot(column=['age'], by = 'bsa_dummy')"
   ]
  },
  {
   "cell_type": "code",
   "execution_count": null,
   "metadata": {},
   "outputs": [],
   "source": []
  }
 ],
 "metadata": {
  "hide_input": false,
  "kernelspec": {
   "display_name": "Python 3",
   "language": "python",
   "name": "python3"
  },
  "language_info": {
   "codemirror_mode": {
    "name": "ipython",
    "version": 3
   },
   "file_extension": ".py",
   "mimetype": "text/x-python",
   "name": "python",
   "nbconvert_exporter": "python",
   "pygments_lexer": "ipython3",
   "version": "3.7.3"
  }
 },
 "nbformat": 4,
 "nbformat_minor": 2
}
