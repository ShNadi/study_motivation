{
 "cells": [
  {
   "cell_type": "code",
   "execution_count": 6,
   "metadata": {},
   "outputs": [],
   "source": [
    "import pandas as pd\n",
    "from imblearn.pipeline import make_pipeline\n",
    "from sklearn.feature_extraction.text import TfidfVectorizer\n",
    "from sklearn.metrics import confusion_matrix\n",
    "from sklearn.metrics import classification_report\n",
    "from sklearn.model_selection import cross_val_score\n",
    "from sklearn.metrics import accuracy_score\n",
    "from sklearn.model_selection import train_test_split\n",
    "from sklearn.svm import SVC\n",
    "import seaborn as sns\n",
    "import numpy as np\n",
    "from nltk.corpus import stopwords\n",
    "import matplotlib.pyplot as plt\n",
    "from sklearn.feature_selection import SelectFromModel\n",
    "from imblearn.pipeline import Pipeline\n",
    "from sklearn.preprocessing import StandardScaler, OneHotEncoder\n",
    "from sklearn.compose import ColumnTransformer\n",
    "from sklearn.preprocessing import FunctionTransformer\n",
    "from sklearn.pipeline import FeatureUnion\n",
    "from sklearn import preprocessing\n",
    "from sklearn.svm import LinearSVC\n",
    "from sklearn.linear_model import LogisticRegression\n"
   ]
  },
  {
   "cell_type": "markdown",
   "metadata": {},
   "source": [
    "# 1- Text-only"
   ]
  },
  {
   "cell_type": "code",
   "execution_count": 7,
   "metadata": {},
   "outputs": [],
   "source": [
    "\n",
    "def logistic_func(df):\n",
    "\n",
    "    # keep test_set apart\n",
    "    df_train, df_test = train_test_split(df, test_size=0.25, stratify=df['bsa_dummy'], shuffle=True,\n",
    "                                             random_state=0)\n",
    "    X_train = df_train['motivation']\n",
    "    y_train = df_train['bsa_dummy']\n",
    "    X_test = df_test['motivation']\n",
    "    y_test = df_test['bsa_dummy']\n",
    "\n",
    " \n",
    "    stopword_list = list(stopwords.words('Dutch'))\n",
    "\n",
    "    pipe = make_pipeline(TfidfVectorizer(lowercase=True, stop_words=stopword_list), \n",
    "                        LogisticRegression(random_state=0, max_iter=10000, solver='lbfgs', penalty='l2', class_weight='balanced'))\n",
    "    scores = cross_val_score(pipe, X_train, y_train, cv=5)\n",
    "\n",
    "    print('5-fold cross validation scores:', scores)\n",
    "    print('average of 5-fold cross validation scores:', scores.mean())\n",
    "\n",
    "    pipe.fit(X_train, y_train)\n",
    "    predictions = pipe.predict(X_test)\n",
    "    print(\"Accuracy for SVM on test_set: %s\" % accuracy_score(y_test, predictions))\n",
    "    cm = confusion_matrix(y_test, predictions)\n",
    "    print(classification_report(y_test, predictions))\n",
    "\n",
    "  \n",
    "    sns.heatmap(cm / np.sum(cm), annot=True, fmt='.2%', cmap='Blues')\n",
    "    plt.show()\n",
    "\n"
   ]
  },
  {
   "cell_type": "code",
   "execution_count": 8,
   "metadata": {},
   "outputs": [
    {
     "name": "stdout",
     "output_type": "stream",
     "text": [
      "5-fold cross validation scores: [0.64117092 0.61945231 0.6421152  0.61850803 0.63833805]\n",
      "average of 5-fold cross validation scores: 0.6319169027384326\n",
      "Accuracy for SVM on test_set: 0.6260623229461756\n",
      "              precision    recall  f1-score   support\n",
      "\n",
      "           0       0.79      0.68      0.73      1312\n",
      "           1       0.34      0.47      0.39       453\n",
      "\n",
      "    accuracy                           0.63      1765\n",
      "   macro avg       0.56      0.57      0.56      1765\n",
      "weighted avg       0.67      0.63      0.64      1765\n",
      "\n"
     ]
    },
    {
     "data": {
      "image/png": "[encoded data removed]",
      "text/plain": [
       "<Figure size 432x288 with 2 Axes>"
      ]
     },
     "metadata": {
      "needs_background": "light"
     },
     "output_type": "display_data"
    }
   ],
   "source": [
    "df = pd.read_csv(r'..\\data\\processed\\motivation_liwc_meta_pos_topic_n15.csv')\n",
    "# df.dropna(subset=['bsa_dummy', 'motivation'], inplace=True)\n",
    "df = df.fillna(method='ffill')\n",
    "\n",
    "logistic_func(df)\n"
   ]
  },
  {
   "cell_type": "markdown",
   "metadata": {},
   "source": [
    "# 1-1- Text-only: feature selection"
   ]
  },
  {
   "cell_type": "code",
   "execution_count": 10,
   "metadata": {},
   "outputs": [],
   "source": [
    "def logistic_text_featureselection(df):\n",
    "\n",
    "    # keep test_set apart\n",
    "    df_train, df_test = train_test_split(df, test_size=0.25, stratify=df['bsa_dummy'], shuffle=True,\n",
    "                                             random_state=0)\n",
    "    X_train = df_train['motivation']\n",
    "    y_train = df_train['bsa_dummy']\n",
    "    X_test = df_test['motivation']\n",
    "    y_test = df_test['bsa_dummy']\n",
    "\n",
    " \n",
    "    stopword_list = list(stopwords.words('Dutch'))\n",
    "\n",
    "    pipe = make_pipeline(TfidfVectorizer(lowercase=True, stop_words=stopword_list),\n",
    "                         SelectFromModel(LinearSVC(penalty=\"l1\", dual=False)),\n",
    "                         LogisticRegression(random_state=0, max_iter=10000, solver='lbfgs', penalty='l2', class_weight='balanced'))\n",
    "    scores = cross_val_score(pipe, X_train, y_train, cv=5)\n",
    "\n",
    "    print('5-fold cross validation scores:', scores)\n",
    "    print('average of 5-fold cross validation scores:', scores.mean())\n",
    "\n",
    "    pipe.fit(X_train, y_train)\n",
    "    predictions = pipe.predict(X_test)\n",
    "    print(\"Accuracy for SVM on test_set: %s\" % accuracy_score(y_test, predictions))\n",
    "    cm = confusion_matrix(y_test, predictions)\n",
    "    print(classification_report(y_test, predictions))\n",
    "\n",
    "  \n",
    "    sns.heatmap(cm / np.sum(cm), annot=True, fmt='.2%', cmap='Blues')\n",
    "    plt.show()\n",
    "\n"
   ]
  },
  {
   "cell_type": "code",
   "execution_count": 11,
   "metadata": {},
   "outputs": [
    {
     "name": "stdout",
     "output_type": "stream",
     "text": [
      "5-fold cross validation scores: [0.61945231 0.60623229 0.62417375 0.59206799 0.61095373]\n",
      "average of 5-fold cross validation scores: 0.6105760151085929\n",
      "Accuracy for SVM on test_set: 0.6135977337110482\n",
      "              precision    recall  f1-score   support\n",
      "\n",
      "           0       0.79      0.65      0.71      1312\n",
      "           1       0.34      0.51      0.41       453\n",
      "\n",
      "    accuracy                           0.61      1765\n",
      "   macro avg       0.56      0.58      0.56      1765\n",
      "weighted avg       0.68      0.61      0.63      1765\n",
      "\n"
     ]
    },
    {
     "data": {
      "image/png": "[encoded data removed]",
      "text/plain": [
       "<Figure size 432x288 with 2 Axes>"
      ]
     },
     "metadata": {
      "needs_background": "light"
     },
     "output_type": "display_data"
    }
   ],
   "source": [
    "df = pd.read_csv(r'..\\data\\processed\\motivation_liwc_meta_pos_topic_n15.csv')\n",
    "# df.dropna(subset=['bsa_dummy', 'motivation'], inplace=True)\n",
    "df = df.fillna(method='ffill')\n",
    "logistic_text_featureselection(df)"
   ]
  },
  {
   "cell_type": "markdown",
   "metadata": {},
   "source": [
    "# 2- Initial numeric features"
   ]
  },
  {
   "cell_type": "code",
   "execution_count": 33,
   "metadata": {},
   "outputs": [],
   "source": [
    "   \n",
    "def logistic_initial_features(df):  \n",
    "    df = df.fillna(method='ffill')\n",
    "    categorical_features = ['cohort', 'field', 'prior_educ', 'previously_enrolled', 'multiple_requests', 'gender',\n",
    "                                'interest', 'ase', 'year', 'program']\n",
    "    numeric_features = ['age', 'HSGPA']\n",
    "    target = df['bsa_dummy']\n",
    "    df1 = df[categorical_features]\n",
    "    df2 = df[numeric_features]\n",
    "    df = pd.concat([df1, df2], axis=1)\n",
    "    df = pd.concat([df, target], axis=1)\n",
    "\n",
    "    # keep test_set apart\n",
    "    df_train, df_test = train_test_split(df, test_size=0.25, stratify=df['bsa_dummy'], shuffle=True,\n",
    "                                             random_state=0)\n",
    "\n",
    "    X_train = df_train.loc[:,df_train.columns !='bsa_dummy']\n",
    "    y_train = df_train['bsa_dummy']\n",
    "    X_test = df_test.loc[:,df_test.columns !='bsa_dummy']\n",
    "    y_test = df_test['bsa_dummy']\n",
    "    \n",
    "    numeric_transformer = Pipeline(steps=[('scaler', StandardScaler())])\n",
    "\n",
    "    categorical_transformer = Pipeline(steps=[\n",
    "        ('onehot', OneHotEncoder(handle_unknown='ignore'))])\n",
    "\n",
    "    preprocessor = ColumnTransformer(\n",
    "        transformers=[\n",
    "            ('num', numeric_transformer, numeric_features),\n",
    "            ('cat', categorical_transformer, categorical_features)])\n",
    "\n",
    " \n",
    "    pipe = make_pipeline(preprocessor,                         \n",
    "                         LogisticRegression(random_state=0, max_iter=10000, solver='lbfgs', penalty='l2', class_weight='balanced'))\n",
    "    \n",
    "    scores = cross_val_score(pipe, X_train, y_train, cv=5)\n",
    "\n",
    "    print('5-fold cross validation scores:', scores)\n",
    "    print('average of 5-fold cross validation scores:', scores.mean())\n",
    "\n",
    "    pipe.fit(X_train, y_train)\n",
    "    predictions = pipe.predict(X_test)\n",
    "    print(\"Accuracy for SVM on test_set: %s\" % accuracy_score(y_test, predictions))\n",
    "    cm = confusion_matrix(y_test, predictions)\n",
    "    print(classification_report(y_test, predictions))\n",
    "\n",
    "  \n",
    "    sns.heatmap(cm / np.sum(cm), annot=True, fmt='.2%', cmap='Blues')\n",
    "    plt.show()\n",
    "    \n",
    "    importance = pipe.steps[1][1].coef_\n",
    "    feature_names = numeric_features + categorical_features\n",
    "\n",
    "    # Zip feature importance and feature names in the format of dictionary\n",
    "    coef_dict = {}\n",
    "    for coef, feat in zip(pipe.steps[1][1].coef_[0, :], feature_names):\n",
    "        coef_dict[feat] = coef\n",
    "\n",
    "    # Sort feature_importance values\n",
    "    coef_dict = dict(sorted(coef_dict.items(), key=lambda item: item[1]))\n",
    "\n",
    "    # Turn dictionary to series\n",
    "    feature_importance = pd.Series(list(coef_dict.values()), index=coef_dict.keys())\n",
    "    print(feature_importance)\n",
    "\n",
    "    # Plot feature importance\n",
    "    feature_importance.plot.barh(figsize=(5, 10))\n",
    "    plt.show()\n",
    "\n",
    "\n",
    "    \n",
    "    "
   ]
  },
  {
   "cell_type": "code",
   "execution_count": 34,
   "metadata": {},
   "outputs": [
    {
     "name": "stdout",
     "output_type": "stream",
     "text": [
      "5-fold cross validation scores: [0.62228517 0.62700661 0.61000944 0.61567517 0.62417375]\n",
      "average of 5-fold cross validation scores: 0.6198300283286119\n",
      "Accuracy for SVM on test_set: 0.6090651558073654\n",
      "              precision    recall  f1-score   support\n",
      "\n",
      "           0       0.84      0.59      0.69      1312\n",
      "           1       0.36      0.68      0.47       453\n",
      "\n",
      "    accuracy                           0.61      1765\n",
      "   macro avg       0.60      0.63      0.58      1765\n",
      "weighted avg       0.72      0.61      0.63      1765\n",
      "\n"
     ]
    },
    {
     "data": {
      "image/png": "[encoded data removed]",
      "text/plain": [
       "<Figure size 432x288 with 2 Axes>"
      ]
     },
     "metadata": {
      "needs_background": "light"
     },
     "output_type": "display_data"
    },
    {
     "name": "stdout",
     "output_type": "stream",
     "text": [
      "HSGPA                 -0.477629\n",
      "year                  -0.346052\n",
      "previously_enrolled   -0.185486\n",
      "cohort                -0.134109\n",
      "gender                -0.002527\n",
      "program                0.048550\n",
      "multiple_requests      0.055146\n",
      "interest               0.055158\n",
      "age                    0.113394\n",
      "prior_educ             0.145602\n",
      "field                  0.149371\n",
      "ase                    0.308683\n",
      "dtype: float64\n"
     ]
    },
    {
     "data": {
      "image/png": "[encoded data removed]",
      "text/plain": [
       "<Figure size 360x720 with 1 Axes>"
      ]
     },
     "metadata": {
      "needs_background": "light"
     },
     "output_type": "display_data"
    }
   ],
   "source": [
    "df = pd.read_csv(r'..\\data\\processed\\motivation_liwc_meta_pos_topic_n15.csv')\n",
    "\n",
    "logistic_initial_features(df)"
   ]
  },
  {
   "cell_type": "markdown",
   "metadata": {},
   "source": [
    "# 3- Added features + initial features- only numeric and categorical"
   ]
  },
  {
   "cell_type": "code",
   "execution_count": 15,
   "metadata": {},
   "outputs": [],
   "source": [
    " \n",
    "def logistic_all_nontext_features(df):\n",
    "    df = df.fillna(method='ffill')\n",
    "    categorical_features = ['cohort', 'field', 'prior_educ', 'previously_enrolled', 'multiple_requests', 'gender',\n",
    "                                'interest', 'ase', 'year', 'program']\n",
    "    numeric_features = ['age', 'HSGPA', 'WC', 'WPS', 'Sixltr',\n",
    "                            'Dic', 'funct', 'pronoun', 'ppron', 'i',\n",
    "                            'we', 'you', 'shehe', 'they', 'ipron',\n",
    "                            'article', 'verb', 'auxverb', 'past', 'present',\n",
    "                            'future', 'adverb', 'preps', 'conj', 'negate',\n",
    "                            'quant', 'number', 'swear', 'social', 'family',\n",
    "                            'friend', 'humans', 'affect', 'posemo', 'negemo',\n",
    "                            'anx', 'anger', 'sad', 'cogmech', 'insight',\n",
    "                            'cause', 'discrep', 'tentat', 'certain', 'inhib',\n",
    "                            'incl', 'excl', 'percept', 'see', 'hear',\n",
    "                            'feel', 'bio', 'body', 'health', 'sexual',\n",
    "                            'ingest', 'relativ', 'motion', 'space', 'time',\n",
    "                            'work', 'achieve', 'leisure', 'home', 'money',\n",
    "                            'relig', 'death', 'assent', 'nonfl', 'filler',\n",
    "                            'pronadv', 'shehethey', 'AllPunc', 'Period', 'Comma',\n",
    "                            'Colon', 'SemiC', 'QMark', 'Exclam', 'Dash',\n",
    "                            'Quote', 'Apostro', 'Parenth', 'OtherP', 'count_punct',\n",
    "                            'count_stopwords', 'nr_token', 'nr_adj', 'nr_noun', 'nr_verb',\n",
    "                            'nr_number', 'topic1', 'topic2', 'topic3', 'topic4',\n",
    "                            'topic5', 'topic6', 'topic7', 'topic8', 'topic9',\n",
    "                            'topic10', 'topic11', 'topic12', 'topic13', 'topic14',\n",
    "                            'topic15']\n",
    "\n",
    "    # Change object (string) type of features to float\n",
    "    change_type = ['WPS', 'Sixltr',\n",
    "                       'Dic', 'funct', 'pronoun', 'ppron', 'i',\n",
    "                       'we', 'you', 'shehe', 'they', 'ipron',\n",
    "                       'article', 'verb', 'auxverb', 'past', 'present',\n",
    "                       'future', 'adverb', 'preps', 'conj', 'negate',\n",
    "                       'quant', 'number', 'swear', 'social', 'family',\n",
    "                       'friend', 'humans', 'affect', 'posemo', 'negemo',\n",
    "                       'anx', 'anger', 'sad', 'cogmech', 'insight',\n",
    "                       'cause', 'discrep', 'tentat', 'certain', 'inhib',\n",
    "                       'incl', 'excl', 'percept', 'see', 'hear',\n",
    "                       'feel', 'bio', 'body', 'health', 'sexual',\n",
    "                       'ingest', 'relativ', 'motion', 'space', 'time',\n",
    "                       'work', 'achieve', 'leisure', 'home', 'money',\n",
    "                       'relig', 'death', 'assent', 'nonfl', 'filler',\n",
    "                       'pronadv', 'shehethey', 'AllPunc', 'Period', 'Comma',\n",
    "                       'Colon', 'SemiC', 'QMark', 'Exclam', 'Dash',\n",
    "                       'Quote', 'Apostro', 'Parenth', 'OtherP']\n",
    "    df[change_type] = df[change_type].apply(lambda x: x.str.replace(',', '.'))\n",
    "    df[change_type] = df[change_type].astype(float).fillna(0.0)\n",
    "\n",
    "    target = df['bsa_dummy']\n",
    "\n",
    "    df1 = df[categorical_features]\n",
    "    df2 = df[numeric_features]\n",
    "    df = pd.concat([df1, df2], axis=1)\n",
    "    df = pd.concat([df, target], axis=1)\n",
    "\n",
    "    # keep test_set apart\n",
    "    df_train, df_test = train_test_split(df, test_size=0.25, stratify=df['bsa_dummy'], shuffle=True,\n",
    "                                             random_state=0)\n",
    "\n",
    "    X_train = df_train.loc[:,df_train.columns !='bsa_dummy']\n",
    "    y_train = df_train['bsa_dummy']\n",
    "    X_test = df_test.loc[:,df_test.columns !='bsa_dummy']\n",
    "    y_test = df_test['bsa_dummy']\n",
    "    \n",
    "    numeric_transformer = Pipeline(steps=[('scaler', StandardScaler())])\n",
    "\n",
    "    categorical_transformer = Pipeline(steps=[\n",
    "        ('onehot', OneHotEncoder(handle_unknown='ignore'))])\n",
    "\n",
    "    preprocessor = ColumnTransformer(\n",
    "        transformers=[\n",
    "            ('num', numeric_transformer, numeric_features),\n",
    "            ('cat', categorical_transformer, categorical_features)])\n",
    "\n",
    " \n",
    "    pipe = make_pipeline(preprocessor,                         \n",
    "                         LogisticRegression(random_state=0, max_iter=10000, solver='lbfgs', penalty='l2', class_weight='balanced'))\n",
    "    \n",
    "    scores = cross_val_score(pipe, X_train, y_train, cv=5)\n",
    "\n",
    "    print('5-fold cross validation scores:', scores)\n",
    "    print('average of 5-fold cross validation scores:', scores.mean())\n",
    "\n",
    "    pipe.fit(X_train, y_train)\n",
    "    predictions = pipe.predict(X_test)\n",
    "    print(\"Accuracy for SVM on test_set: %s\" % accuracy_score(y_test, predictions))\n",
    "    cm = confusion_matrix(y_test, predictions)\n",
    "    print(classification_report(y_test, predictions))\n",
    "\n",
    "  \n",
    "    sns.heatmap(cm / np.sum(cm), annot=True, fmt='.2%', cmap='Blues')\n",
    "    plt.show()\n",
    "\n"
   ]
  },
  {
   "cell_type": "code",
   "execution_count": 16,
   "metadata": {},
   "outputs": [
    {
     "name": "stdout",
     "output_type": "stream",
     "text": [
      "5-fold cross validation scores: [0.65061379 0.60906516 0.64494806 0.60623229 0.63833805]\n",
      "average of 5-fold cross validation scores: 0.6298394711992447\n",
      "Accuracy for SVM on test_set: 0.6198300283286119\n",
      "              precision    recall  f1-score   support\n",
      "\n",
      "           0       0.83      0.61      0.71      1312\n",
      "           1       0.36      0.64      0.46       453\n",
      "\n",
      "    accuracy                           0.62      1765\n",
      "   macro avg       0.60      0.63      0.58      1765\n",
      "weighted avg       0.71      0.62      0.64      1765\n",
      "\n"
     ]
    },
    {
     "data": {
      "image/png": "[encoded data removed]",
      "text/plain": [
       "<Figure size 432x288 with 2 Axes>"
      ]
     },
     "metadata": {
      "needs_background": "light"
     },
     "output_type": "display_data"
    }
   ],
   "source": [
    "df = pd.read_csv(r'..\\data\\processed\\motivation_liwc_meta_pos_topic_n15.csv')\n",
    "\n",
    "logistic_all_nontext_features(df)"
   ]
  },
  {
   "cell_type": "markdown",
   "metadata": {},
   "source": [
    "# 4- Text + Initial non-textual features"
   ]
  },
  {
   "cell_type": "code",
   "execution_count": 17,
   "metadata": {},
   "outputs": [],
   "source": [
    "def logistic_text_initial_features(df):\n",
    "    stopword_list = list(stopwords.words('Dutch'))\n",
    "\n",
    "    df = df.fillna(method='ffill')\n",
    "    categorical_features = ['cohort', 'field', 'prior_educ', 'previously_enrolled', 'multiple_requests', 'gender',\n",
    "                                'interest', 'ase', 'year', 'program']\n",
    "    numeric_features = ['age', 'HSGPA']\n",
    "    text_features = ['motivation']\n",
    "    \n",
    "    target = df['bsa_dummy']\n",
    "    \n",
    "    get_text_data = FunctionTransformer(lambda x: x['motivation'], validate=False)\n",
    "    get_numeric_data = FunctionTransformer(lambda x: x[numeric_features], validate=False)\n",
    "    get_categorical_data = FunctionTransformer(lambda x: x[categorical_features], validate=False)\n",
    "\n",
    "    process_and_join_features = Pipeline([\n",
    "        ('features', FeatureUnion([\n",
    "            ('numeric_features', Pipeline([\n",
    "                ('selector', get_numeric_data),\n",
    "                ('scaler', preprocessing.StandardScaler())\n",
    "\n",
    "            ])),\n",
    "            ('categorical_features', Pipeline([\n",
    "                ('selector', get_categorical_data),\n",
    "                ('onehot', OneHotEncoder(handle_unknown='ignore'))\n",
    "\n",
    "            ])),\n",
    "            ('text_features', Pipeline([\n",
    "                ('selector', get_text_data),\n",
    "                ('vec', TfidfVectorizer(lowercase=True, stop_words=stopword_list))\n",
    "            ]))\n",
    "        ])),\n",
    "\n",
    "\n",
    "        ('clf', LogisticRegression(random_state=0, max_iter=10000, solver='lbfgs', penalty='l2', class_weight='balanced'))\n",
    "    ])\n",
    "    \n",
    "  \n",
    "    \n",
    "    df = df.dropna()\n",
    "    text = df['motivation']\n",
    "    num = df[numeric_features]\n",
    "    cat = df[categorical_features]\n",
    "    df_features =pd.concat([text,num], axis=1)\n",
    "    df_features =pd.concat([df_features,cat], axis=1)\n",
    "\n",
    "    \n",
    "    X_train, X_val, y_train, y_val = train_test_split(df_features, df['bsa_dummy'], stratify=df['bsa_dummy'], test_size=0.25, random_state=0)\n",
    "    \n",
    " \n",
    "    process_and_join_features.fit(X_train, y_train)\n",
    "#     predictions_lt = process_and_join_features.predict(X_val)\n",
    "    \n",
    "    scores = cross_val_score(process_and_join_features, X_train, y_train, cv=5)\n",
    "\n",
    "    print('5-fold cross validation scores:', scores)\n",
    "    print('average of 5-fold cross validation scores:', scores.mean())\n",
    "\n",
    "    process_and_join_features.fit(X_train, y_train)\n",
    "    predictions = process_and_join_features.predict(X_val)\n",
    "    print(\"Accuracy for SVM on test_set: %s\" % accuracy_score(y_val, predictions))\n",
    "    cm = confusion_matrix(y_val, predictions)\n",
    "    print(classification_report(y_val, predictions))\n",
    "\n",
    "  \n",
    "    sns.heatmap(cm / np.sum(cm), annot=True, fmt='.2%', cmap='Blues')\n",
    "    plt.show()\n"
   ]
  },
  {
   "cell_type": "code",
   "execution_count": 18,
   "metadata": {},
   "outputs": [
    {
     "name": "stdout",
     "output_type": "stream",
     "text": [
      "5-fold cross validation scores: [0.66194523 0.65627951 0.65816808 0.66477809 0.67044381]\n",
      "average of 5-fold cross validation scores: 0.6623229461756374\n",
      "Accuracy for SVM on test_set: 0.6402266288951841\n",
      "              precision    recall  f1-score   support\n",
      "\n",
      "           0       0.82      0.66      0.73      1312\n",
      "           1       0.37      0.57      0.45       453\n",
      "\n",
      "    accuracy                           0.64      1765\n",
      "   macro avg       0.59      0.62      0.59      1765\n",
      "weighted avg       0.70      0.64      0.66      1765\n",
      "\n"
     ]
    },
    {
     "data": {
      "image/png": "[encoded data removed]",
      "text/plain": [
       "<Figure size 432x288 with 2 Axes>"
      ]
     },
     "metadata": {
      "needs_background": "light"
     },
     "output_type": "display_data"
    }
   ],
   "source": [
    "df = pd.read_csv(r'..\\data\\processed\\motivation_liwc_meta_pos_topic_n15.csv')\n",
    "\n",
    "\n",
    "logistic_text_initial_features(df)"
   ]
  },
  {
   "cell_type": "markdown",
   "metadata": {},
   "source": [
    "# 5- Text + all non-textual features"
   ]
  },
  {
   "cell_type": "code",
   "execution_count": 19,
   "metadata": {},
   "outputs": [],
   "source": [
    "def logistic_all_features(df):\n",
    "    stopword_list = list(stopwords.words('Dutch'))\n",
    "\n",
    "    df = df.fillna(method='ffill')\n",
    "    categorical_features = ['cohort', 'field', 'prior_educ', 'previously_enrolled', 'multiple_requests', 'gender',\n",
    "                                'interest', 'ase', 'year', 'program']\n",
    "    numeric_features = ['age', 'HSGPA', 'WC', 'WPS', 'Sixltr',\n",
    "                        'Dic', 'funct', 'pronoun', 'ppron', 'i',\n",
    "                        'we', 'you', 'shehe', 'they', 'ipron',\n",
    "                        'article', 'verb', 'auxverb', 'past', 'present',\n",
    "                        'future', 'adverb', 'preps', 'conj', 'negate',\n",
    "                        'quant', 'number', 'swear', 'social', 'family',\n",
    "                        'friend', 'humans', 'affect', 'posemo', 'negemo',\n",
    "                        'anx', 'anger', 'sad', 'cogmech', 'insight',\n",
    "                        'cause', 'discrep', 'tentat', 'certain', 'inhib',\n",
    "                        'incl', 'excl', 'percept', 'see', 'hear',\n",
    "                        'feel', 'bio', 'body', 'health', 'sexual',\n",
    "                        'ingest', 'relativ', 'motion', 'space', 'time',\n",
    "                        'work', 'achieve', 'leisure', 'home', 'money',\n",
    "                        'relig', 'death', 'assent', 'nonfl', 'filler',\n",
    "                        'pronadv', 'shehethey', 'AllPunc', 'Period', 'Comma',\n",
    "                        'Colon', 'SemiC', 'QMark', 'Exclam', 'Dash',\n",
    "                        'Quote', 'Apostro', 'Parenth', 'OtherP', 'count_punct',\n",
    "                        'count_stopwords', 'nr_token', 'nr_adj', 'nr_noun', 'nr_verb',\n",
    "                        'nr_number', 'topic1', 'topic2', 'topic3', 'topic4',\n",
    "                        'topic5', 'topic6', 'topic7', 'topic8', 'topic9',\n",
    "                        'topic10', 'topic11', 'topic12', 'topic13', 'topic14',\n",
    "                        'topic15']\n",
    "    text_features = ['motivation']\n",
    "    \n",
    "    target = df['bsa_dummy']\n",
    "    \n",
    "    get_text_data = FunctionTransformer(lambda x: x['motivation'], validate=False)\n",
    "    get_numeric_data = FunctionTransformer(lambda x: x[numeric_features], validate=False)\n",
    "    get_categorical_data = FunctionTransformer(lambda x: x[categorical_features], validate=False)\n",
    "\n",
    "    process_and_join_features = Pipeline([\n",
    "        ('features', FeatureUnion([\n",
    "            ('numeric_features', Pipeline([\n",
    "                ('selector', get_numeric_data),\n",
    "                ('scaler', preprocessing.StandardScaler())\n",
    "\n",
    "            ])),\n",
    "            ('categorical_features', Pipeline([\n",
    "                ('selector', get_categorical_data),\n",
    "                ('onehot', OneHotEncoder(handle_unknown='ignore'))\n",
    "\n",
    "            ])),\n",
    "            ('text_features', Pipeline([\n",
    "                ('selector', get_text_data),\n",
    "                ('vec', TfidfVectorizer(lowercase=True, stop_words=stopword_list)),\n",
    "                ('feature_selection', SelectFromModel(LinearSVC(penalty=\"l1\", dual=False)))\n",
    "            ]))\n",
    "        ])),\n",
    "\n",
    "\n",
    "        ('clf', LogisticRegression(random_state=0, max_iter=10000, solver='lbfgs', penalty='l2', class_weight='balanced'))\n",
    "    ])\n",
    "    \n",
    "  \n",
    "    \n",
    "    df = df.dropna()\n",
    "    text = df['motivation']\n",
    "    num = df[numeric_features]\n",
    "    cat = df[categorical_features]\n",
    "    df_features =pd.concat([text,num], axis=1)\n",
    "    df_features =pd.concat([df_features,cat], axis=1)\n",
    "\n",
    "    \n",
    "    X_train, X_val, y_train, y_val = train_test_split(df_features, df['bsa_dummy'], stratify=df['bsa_dummy'], test_size=0.25, random_state=0)\n",
    "    \n",
    " \n",
    "    process_and_join_features.fit(X_train, y_train)\n",
    "#     predictions_lt = process_and_join_features.predict(X_val)\n",
    "    \n",
    "    scores = cross_val_score(process_and_join_features, X_train, y_train, cv=5)\n",
    "\n",
    "    print('5-fold cross validation scores:', scores)\n",
    "    print('average of 5-fold cross validation scores:', scores.mean())\n",
    "\n",
    "    process_and_join_features.fit(X_train, y_train)\n",
    "    predictions = process_and_join_features.predict(X_val)\n",
    "    print(\"Accuracy for SVM on test_set: %s\" % accuracy_score(y_val, predictions))\n",
    "    cm = confusion_matrix(y_val, predictions)\n",
    "    print(classification_report(y_val, predictions))\n",
    "\n",
    "  \n",
    "    sns.heatmap(cm / np.sum(cm), annot=True, fmt='.2%', cmap='Blues')\n",
    "    plt.show()\n"
   ]
  },
  {
   "cell_type": "code",
   "execution_count": 20,
   "metadata": {},
   "outputs": [
    {
     "name": "stdout",
     "output_type": "stream",
     "text": [
      "5-fold cross validation scores: [0.66288952 0.64400378 0.64778093 0.6421152  0.6572238 ]\n",
      "average of 5-fold cross validation scores: 0.6508026440037772\n",
      "Accuracy for SVM on test_set: 0.6413597733711048\n",
      "              precision    recall  f1-score   support\n",
      "\n",
      "           0       0.82      0.66      0.73      1312\n",
      "           1       0.37      0.59      0.46       453\n",
      "\n",
      "    accuracy                           0.64      1765\n",
      "   macro avg       0.60      0.62      0.59      1765\n",
      "weighted avg       0.71      0.64      0.66      1765\n",
      "\n"
     ]
    },
    {
     "data": {
      "image/png": "[encoded data removed]",
      "text/plain": [
       "<Figure size 432x288 with 2 Axes>"
      ]
     },
     "metadata": {
      "needs_background": "light"
     },
     "output_type": "display_data"
    }
   ],
   "source": [
    "df = pd.read_csv(r'..\\data\\processed\\motivation_liwc_meta_pos_topic_n15.csv')\n",
    "change_type = ['WPS', 'Sixltr',\n",
    "                   'Dic', 'funct', 'pronoun', 'ppron', 'i',\n",
    "                   'we', 'you', 'shehe', 'they', 'ipron',\n",
    "                   'article', 'verb', 'auxverb', 'past', 'present',\n",
    "                   'future', 'adverb', 'preps', 'conj', 'negate',\n",
    "                   'quant', 'number', 'swear', 'social', 'family',\n",
    "                   'friend', 'humans', 'affect', 'posemo', 'negemo',\n",
    "                   'anx', 'anger', 'sad', 'cogmech', 'insight',\n",
    "                   'cause', 'discrep', 'tentat', 'certain', 'inhib',\n",
    "                   'incl', 'excl', 'percept', 'see', 'hear',\n",
    "                   'feel', 'bio', 'body', 'health', 'sexual',\n",
    "                   'ingest', 'relativ', 'motion', 'space', 'time',\n",
    "                   'work', 'achieve', 'leisure', 'home', 'money',\n",
    "                   'relig', 'death', 'assent', 'nonfl', 'filler',\n",
    "                   'pronadv', 'shehethey', 'AllPunc', 'Period', 'Comma',\n",
    "                   'Colon', 'SemiC', 'QMark', 'Exclam', 'Dash',\n",
    "                   'Quote', 'Apostro', 'Parenth', 'OtherP']\n",
    "df[change_type] = df[change_type].apply(lambda x: x.str.replace(',', '.'))\n",
    "df[change_type] = df[change_type].astype(float).fillna(0.0)\n",
    "logistic_all_features(df)"
   ]
  },
  {
   "cell_type": "markdown",
   "metadata": {},
   "source": [
    "# 6 - Text + all features excluding LIWC"
   ]
  },
  {
   "cell_type": "code",
   "execution_count": 23,
   "metadata": {},
   "outputs": [],
   "source": [
    "def logistic_all_without_liwc_features(df):\n",
    "    stopword_list = list(stopwords.words('Dutch'))\n",
    "\n",
    "    df = df.fillna(method='ffill')\n",
    "    categorical_features = ['cohort', 'field', 'prior_educ', 'previously_enrolled', 'multiple_requests', 'gender',\n",
    "                                'interest', 'ase', 'year', 'program']\n",
    "    numeric_features = ['age', 'HSGPA', 'nr_token', 'nr_adj', 'nr_noun', 'nr_verb',\n",
    "                        'nr_number', 'topic1', 'topic2', 'topic3', 'topic4',\n",
    "                        'topic5', 'topic6', 'topic7', 'topic8', 'topic9',\n",
    "                        'topic10', 'topic11', 'topic12', 'topic13', 'topic14',\n",
    "                        'topic15']\n",
    "    text_features = ['motivation']\n",
    "    \n",
    "    target = df['bsa_dummy']\n",
    "    \n",
    "    get_text_data = FunctionTransformer(lambda x: x['motivation'], validate=False)\n",
    "    get_numeric_data = FunctionTransformer(lambda x: x[numeric_features], validate=False)\n",
    "    get_categorical_data = FunctionTransformer(lambda x: x[categorical_features], validate=False)\n",
    "\n",
    "    process_and_join_features = Pipeline([\n",
    "        ('features', FeatureUnion([\n",
    "            ('numeric_features', Pipeline([\n",
    "                ('selector', get_numeric_data),\n",
    "                ('scaler', preprocessing.StandardScaler())\n",
    "\n",
    "            ])),\n",
    "            ('categorical_features', Pipeline([\n",
    "                ('selector', get_categorical_data),\n",
    "                ('onehot', OneHotEncoder(handle_unknown='ignore'))\n",
    "\n",
    "            ])),\n",
    "            ('text_features', Pipeline([\n",
    "                ('selector', get_text_data),\n",
    "                ('vec', TfidfVectorizer(lowercase=True, stop_words=stopword_list)),\n",
    "                ('feature_selection', SelectFromModel(LinearSVC(penalty=\"l1\", dual=False)))\n",
    "            ]))\n",
    "        ])),\n",
    "\n",
    "\n",
    "        ('clf', LogisticRegression(random_state=0, max_iter=10000, solver='lbfgs', penalty='l2', class_weight='balanced'))\n",
    "    ])\n",
    "    \n",
    "  \n",
    "    \n",
    "    df = df.dropna()\n",
    "    text = df['motivation']\n",
    "    num = df[numeric_features]\n",
    "    cat = df[categorical_features]\n",
    "    df_features =pd.concat([text,num], axis=1)\n",
    "    df_features =pd.concat([df_features,cat], axis=1)\n",
    "\n",
    "    \n",
    "    X_train, X_val, y_train, y_val = train_test_split(df_features, df['bsa_dummy'], stratify=df['bsa_dummy'], test_size=0.25, random_state=0)\n",
    "    \n",
    " \n",
    "    process_and_join_features.fit(X_train, y_train)\n",
    "#     predictions_lt = process_and_join_features.predict(X_val)\n",
    "    \n",
    "    scores = cross_val_score(process_and_join_features, X_train, y_train, cv=5)\n",
    "\n",
    "    print('5-fold cross validation scores:', scores)\n",
    "    print('average of 5-fold cross validation scores:', scores.mean())\n",
    "\n",
    "    process_and_join_features.fit(X_train, y_train)\n",
    "    predictions = process_and_join_features.predict(X_val)\n",
    "    print(\"Accuracy for SVM on test_set: %s\" % accuracy_score(y_val, predictions))\n",
    "    cm = confusion_matrix(y_val, predictions)\n",
    "    print(classification_report(y_val, predictions))\n",
    "\n",
    "  \n",
    "    sns.heatmap(cm / np.sum(cm), annot=True, fmt='.2%', cmap='Blues')\n",
    "    plt.show()\n"
   ]
  },
  {
   "cell_type": "code",
   "execution_count": 24,
   "metadata": {
    "scrolled": true
   },
   "outputs": [
    {
     "name": "stdout",
     "output_type": "stream",
     "text": [
      "5-fold cross validation scores: [0.65911237 0.65250236 0.66194523 0.64872521 0.66100094]\n",
      "average of 5-fold cross validation scores: 0.656657223796034\n",
      "Accuracy for SVM on test_set: 0.6220963172804532\n",
      "              precision    recall  f1-score   support\n",
      "\n",
      "           0       0.81      0.64      0.71      1312\n",
      "           1       0.36      0.58      0.44       453\n",
      "\n",
      "    accuracy                           0.62      1765\n",
      "   macro avg       0.59      0.61      0.58      1765\n",
      "weighted avg       0.70      0.62      0.64      1765\n",
      "\n"
     ]
    },
    {
     "data": {
      "image/png": "[encoded data removed]",
      "text/plain": [
       "<Figure size 432x288 with 2 Axes>"
      ]
     },
     "metadata": {
      "needs_background": "light"
     },
     "output_type": "display_data"
    }
   ],
   "source": [
    "df = pd.read_csv(r'..\\data\\processed\\motivation_liwc_meta_pos_topic_n15.csv')\n",
    "\n",
    "logistic_all_without_liwc_features(df)"
   ]
  },
  {
   "cell_type": "code",
   "execution_count": null,
   "metadata": {},
   "outputs": [],
   "source": []
  }
 ],
 "metadata": {
  "hide_input": false,
  "kernelspec": {
   "display_name": "Python 3",
   "language": "python",
   "name": "python3"
  },
  "language_info": {
   "codemirror_mode": {
    "name": "ipython",
    "version": 3
   },
   "file_extension": ".py",
   "mimetype": "text/x-python",
   "name": "python",
   "nbconvert_exporter": "python",
   "pygments_lexer": "ipython3",
   "version": "3.7.3"
  }
 },
 "nbformat": 4,
 "nbformat_minor": 2
}
